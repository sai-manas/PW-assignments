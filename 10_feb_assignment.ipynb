{
 "cells": [
  {
   "cell_type": "markdown",
   "id": "e08b523e",
   "metadata": {},
   "source": [
    "**Q1. Which function is used to open a file? What are the different modes of opening a file? Explain each mode\n",
    "of file opening.**\n",
    " \n",
    "- In most programming languages, including Python, the function used to open a file is typically named open(). The open() function is used to establish a connection between your program and a file on the system, allowing you to perform various operations on that file. In Python, the open() function returns a file object which you can use to read from or write to the file.\n",
    "\n",
    "The open() function takes two main arguments: the file path (either an absolute path or a relative path) and the mode in which you want to open the file.\n",
    "\n",
    "The modes for opening a file are as follows:\n",
    "\n",
    "- 'r' (Read): This mode is used for reading the contents of the file. If the file does not exist, an error will be raised. The file pointer is positioned at the beginning of the file. You can only perform read operations in this mode.\n",
    "\n",
    "- 'w' (Write): This mode is used to write new data to the file. If the file already exists, its contents will be truncated (deleted) before writing. If the file does not exist, a new file will be created. The file pointer is positioned at the beginning of the file.\n",
    "\n",
    "- 'a' (Append): This mode is used to append new data to the end of an existing file. If the file does not exist, a new file will be created. The file pointer is positioned at the end of the file. You can only perform write operations in this mode.\n",
    "\n",
    "- 'x' (Exclusive Creation): This mode is used to create a new file. If the file already exists, an error will be raised. The file pointer is positioned at the beginning of the file.\n",
    "\n",
    "- 'b' (Binary Mode): This mode can be added to any of the above modes to indicate that the file should be treated as a binary file (e.g., images, audio, etc.). For example, 'rb' for reading a binary file and 'wb' for writing to a binary file.\n",
    "\n",
    "- 't' (Text Mode, Default): This mode can be added to any of the above modes to indicate that the file should be treated as a text file (default behavior). For example, 'rt' for reading a text file and 'wt' for writing to a text file."
   ]
  },
  {
   "cell_type": "code",
   "execution_count": null,
   "id": "fb95b4dc",
   "metadata": {},
   "outputs": [],
   "source": [
    "#reading a file\n",
    "with open(\"oldfile.txt\",\"r\") as f:\n",
    "    print(f.read())\n",
    "    \n",
    "#writing a file(overwrite or create new one)\n",
    "with open(\"newfile.txt\",'w') as f:\n",
    "    f.write(\"This will overwrite the old content\")\n",
    "\n",
    "#Appending a file\n",
    "with open(\"existingfile.txt\",'a') as f:\n",
    "    f.write(\"This will continue the lines from end of preious content\")\n",
    "    \n",
    "#creating a binary\n",
    "with open(\"binaryfile.bin\",'wb') as f:\n",
    "    f.write(b'\\x00\\x01\\x02')\n",
    "    \n",
    "#reading a binary\n",
    "with open(\"binaryfile.bin\",'rb') as f:\n",
    "    print(f.read())"
   ]
  },
  {
   "cell_type": "markdown",
   "id": "bac8fadd",
   "metadata": {},
   "source": [
    "**Q2. Why close() function is used? Why is it important to close a file?**\n",
    "\n",
    "In Python, the close() function is used to close an open file. It's important to close a file after you've finished working with it because it has several benefits and implications:\n",
    "\n",
    "- Resource Management: When a file is opened, the operating system allocates certain resources to keep track of the file, its content, and the current position within the file. If you don't close the file properly, these resources might not be released immediately, potentially leading to resource leaks and inefficient memory usage.\n",
    "\n",
    "- Data Integrity: When you write data to a file, the data might not be immediately flushed (written) to the physical storage. Instead, the operating system might buffer the data and write it to the file at a later time. Closing the file ensures that any buffered data is properly written to the file before it's closed, reducing the risk of data loss.\n",
    "\n",
    "- File Locking: In some cases, files might be locked by the operating system or other processes while they're open. If you don't close the file properly, it might remain locked, preventing other processes from accessing or modifying it.\n",
    "\n",
    "- Operating System Limits: There's typically a limit to the number of files that can be open simultaneously by a process. If you don't close files that you're done using, you might run into these limits and hinder the performance of your program.\n"
   ]
  },
  {
   "cell_type": "markdown",
   "id": "5311cc3f",
   "metadata": {},
   "source": [
    "**Q3. Write a python program to create a text file. Write ‘I want to become a Data Scientist’ in that file. Then\n",
    "close the file. Open this file and read the content of the file.**"
   ]
  },
  {
   "cell_type": "code",
   "execution_count": 8,
   "id": "3fe6cb23",
   "metadata": {},
   "outputs": [],
   "source": [
    "f = open(\"DataScientist.txt\",'w')\n",
    "f.write('I want to become a Data Scientist')\n",
    "f.close()"
   ]
  },
  {
   "cell_type": "code",
   "execution_count": 9,
   "id": "70a5ce87",
   "metadata": {},
   "outputs": [
    {
     "name": "stdout",
     "output_type": "stream",
     "text": [
      "I want to become a Data Scientist\n"
     ]
    }
   ],
   "source": [
    "with open(\"DataScientist.txt\",'r') as f:\n",
    "    print(f.read())"
   ]
  },
  {
   "cell_type": "markdown",
   "id": "2bcba8fc",
   "metadata": {},
   "source": [
    "**Q4. Explain the following with python code: read(), readline() and readlines().**\n",
    "- The read() method is used to read the entire content of a file as a single string.\n",
    "- The readline() method reads a single line from the file, including the newline character.\n",
    "- The readlines() method reads all lines from the file and returns them as a list of strings."
   ]
  },
  {
   "cell_type": "code",
   "execution_count": 10,
   "id": "6e7b2e72",
   "metadata": {},
   "outputs": [],
   "source": [
    "#first appending the DataScientist file to show above read methods:\n",
    "with open(\"DataScientist.txt\",'a') as f:\n",
    "    f.write(\"\\nI can become Data Scientist \\nI will become Data Scientist\")"
   ]
  },
  {
   "cell_type": "code",
   "execution_count": 11,
   "id": "50db718f",
   "metadata": {},
   "outputs": [
    {
     "name": "stdout",
     "output_type": "stream",
     "text": [
      "I want to become a Data Scientist\n",
      "I can become Data Scientist \n",
      "I will become Data Scientist\n"
     ]
    }
   ],
   "source": [
    "#using read() to read entire content\n",
    "with open(\"DataScientist.txt\",'r') as f:\n",
    "    print(f.read())"
   ]
  },
  {
   "cell_type": "code",
   "execution_count": 13,
   "id": "114ca40e",
   "metadata": {},
   "outputs": [
    {
     "name": "stdout",
     "output_type": "stream",
     "text": [
      "I want to become a Data Scientist\n",
      "\n",
      "I can become Data Scientist \n",
      "\n"
     ]
    }
   ],
   "source": [
    "#using readline() to read single line\n",
    "with open(\"DataScientist.txt\",'r') as f:\n",
    "    print(f.readline())\n",
    "    print(f.readline())"
   ]
  },
  {
   "cell_type": "code",
   "execution_count": 18,
   "id": "985c5136",
   "metadata": {},
   "outputs": [
    {
     "name": "stdout",
     "output_type": "stream",
     "text": [
      "['I want to become a Data Scientist\\n', 'I can become Data Scientist \\n', 'I will become Data Scientist']\n"
     ]
    }
   ],
   "source": [
    "#using readlines() to read all lines\n",
    "with open(\"DataScientist.txt\",'r') as f:\n",
    "    print(f.readlines())\n",
    "    "
   ]
  },
  {
   "cell_type": "code",
   "execution_count": 22,
   "id": "d1e991b1",
   "metadata": {},
   "outputs": [
    {
     "name": "stdout",
     "output_type": "stream",
     "text": [
      "I want to become a Data Scientist\n",
      "\n",
      "I can become Data Scientist \n",
      "\n",
      "I will become Data Scientist\n"
     ]
    }
   ],
   "source": [
    "# or it can be print like below using \n",
    "with open(\"DataScientist.txt\",'r') as f:\n",
    "    lines = f.readlines()\n",
    "    for line in lines :\n",
    "        print(line)\n"
   ]
  },
  {
   "cell_type": "markdown",
   "id": "a51ba9d1",
   "metadata": {},
   "source": [
    "**Q5. Explain why with statement is used with open(). What is the advantage of using with statement and\n",
    "open() together?**\n",
    "\n",
    "The with statement in Python is used in conjunction with the open() function when working with files. It provides a context manager that ensures proper acquisition and release of resources, such as file handles, during file operations. Using the with statement with open() offers several advantages:\n",
    "\n",
    "- Automatic Resource Management: When you open a file using the with statement, Python automatically takes care of closing the file when you're done working with it. This prevents resource leaks, memory consumption, and potential issues with open file handles.\n",
    "\n",
    "- Exception Handling: The with statement also helps with exception handling. If an exception occurs within the with block, Python ensures that the file is closed properly before propagating the exception. This helps prevent situations where files are left open due to unhandled exceptions.\n",
    "\n",
    "- Cleaner Code: The combination of with and open() simplifies your code by removing the need for explicit calls to close(). It makes your code cleaner and easier to read, focusing on the core logic rather than resource management details.\n",
    "\n",
    "- Reduced Chance of Errors: Manually managing the opening and closing of files can lead to errors, such as forgetting to close a file, which might result in data corruption or resource issues. Using the with statement minimizes the chances of such errors."
   ]
  },
  {
   "cell_type": "markdown",
   "id": "bbf3a283",
   "metadata": {},
   "source": [
    "**Q6. Explain the write() and writelines() functions. Give a suitable example.**\n",
    "- The write() function is used to write a string to a file. It appends the provided string to the end of the file's current content. If the file is opened in write mode ('w'), the existing content is overwritten with the new string.\n",
    "\n",
    "- The writelines() function is used to write a list of strings to a file. Each string in the list is written as a separate line in the file."
   ]
  },
  {
   "cell_type": "code",
   "execution_count": null,
   "id": "0d66d0fb",
   "metadata": {},
   "outputs": [],
   "source": [
    "# using write() function\n",
    "with open(\"example.txt\",'w') as f:\n",
    "    f.write(\"This is a sample text\") #output: This is a sample text"
   ]
  },
  {
   "cell_type": "code",
   "execution_count": 37,
   "id": "8f5cbce9",
   "metadata": {},
   "outputs": [],
   "source": [
    "# using writelines() function\n",
    "lines = [\"This is\\n\", \"a\\n\", \"sample\\n\", \"text\\n\"]\n",
    "with open(\"example.txt\",'w') as f:\n",
    "    f.writelines(lines)"
   ]
  }
 ],
 "metadata": {
  "kernelspec": {
   "display_name": "Python 3 (ipykernel)",
   "language": "python",
   "name": "python3"
  },
  "language_info": {
   "codemirror_mode": {
    "name": "ipython",
    "version": 3
   },
   "file_extension": ".py",
   "mimetype": "text/x-python",
   "name": "python",
   "nbconvert_exporter": "python",
   "pygments_lexer": "ipython3",
   "version": "3.10.9"
  }
 },
 "nbformat": 4,
 "nbformat_minor": 5
}
