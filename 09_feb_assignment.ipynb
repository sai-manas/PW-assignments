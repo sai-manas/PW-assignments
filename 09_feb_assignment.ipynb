{
 "cells": [
  {
   "cell_type": "markdown",
   "id": "290b29ab",
   "metadata": {},
   "source": [
    "**Q1. Create a vehicle class with an init method having instance variables as name_of_vehicle, max_speed\n",
    "and average_of_vehicle.**"
   ]
  },
  {
   "cell_type": "code",
   "execution_count": 4,
   "id": "a917f70c",
   "metadata": {},
   "outputs": [],
   "source": [
    "class vehicle:\n",
    "    def __init__(self,name_of_vehicle,max_speed,average_of_vehicle):\n",
    "        self.name_of_vehicle = name_of_vehicle\n",
    "        self.max_speed = max_speed\n",
    "        self.average_of_vehicle = average_of_vehicle"
   ]
  },
  {
   "cell_type": "code",
   "execution_count": 8,
   "id": "6567636e",
   "metadata": {},
   "outputs": [
    {
     "data": {
      "text/plain": [
       "800"
      ]
     },
     "execution_count": 8,
     "metadata": {},
     "output_type": "execute_result"
    }
   ],
   "source": [
    "car = vehicle(\"Rolls-Royce\",800,50)\n",
    "car.max_speed"
   ]
  },
  {
   "cell_type": "markdown",
   "id": "4b42075f",
   "metadata": {},
   "source": [
    "**Q2. Create a child class car from the vehicle class created in Que 1, which will inherit the vehicle class.\n",
    "Create a method named seating_capacity which takes capacity as an argument and returns the name of\n",
    "the vehicle and its seating capacity.**"
   ]
  },
  {
   "cell_type": "code",
   "execution_count": 9,
   "id": "45b9b425",
   "metadata": {},
   "outputs": [],
   "source": [
    "class car(vehicle):\n",
    "    def seating_capacity(self,capacity):\n",
    "        return f\"{self.name_of_vehicle} - Capacity: {capacity}\""
   ]
  },
  {
   "cell_type": "code",
   "execution_count": 10,
   "id": "1fc5ed1f",
   "metadata": {},
   "outputs": [
    {
     "name": "stdout",
     "output_type": "stream",
     "text": [
      "Thar - Capacity: 4\n"
     ]
    }
   ],
   "source": [
    "Car = car(\"Thar\",500,250)\n",
    "print(Car.seating_capacity(4))"
   ]
  },
  {
   "cell_type": "markdown",
   "id": "b6f7ab40",
   "metadata": {},
   "source": [
    "**Q3. What is multiple inheritance? Write a python code to demonstrate multiple inheritance.**\n",
    "\n",
    "- Multiple inheritance is a concept in object-oriented programming where a class can inherit attributes and methods from more than one parent class. In other words, a class can inherit properties and behaviors from multiple base classes. This allows for code reuse and the creation of complex class hierarchies."
   ]
  },
  {
   "cell_type": "code",
   "execution_count": 11,
   "id": "38dc6fdb",
   "metadata": {},
   "outputs": [],
   "source": [
    "class parent1:\n",
    "    def method1(self):\n",
    "        print(\"this is method from parent 1 \")\n",
    "        \n",
    "class parent2:\n",
    "    def method2(self):\n",
    "        print(\"this is method from parent 2\")\n",
    "        \n",
    "class child(parent1,parent2):\n",
    "    def method3(self):\n",
    "        print(\"this is method from child\")\n",
    "        \n"
   ]
  },
  {
   "cell_type": "code",
   "execution_count": 12,
   "id": "7d222bad",
   "metadata": {},
   "outputs": [
    {
     "name": "stdout",
     "output_type": "stream",
     "text": [
      "this is method from parent 1 \n",
      "this is method from parent 2\n",
      "this is method from child\n"
     ]
    }
   ],
   "source": [
    "child_object = child()\n",
    "child_object.method1()\n",
    "child_object.method2()\n",
    "child_object.method3()"
   ]
  },
  {
   "cell_type": "markdown",
   "id": "19921d8d",
   "metadata": {},
   "source": [
    "**Q4. What are getter and setter in python? Create a class and create a getter and a setter method in this\n",
    "class.**\n",
    "- In Python, getters and setters are methods used to access and modify the attributes of a class. They provide a controlled way to interact with class attributes, allowing you to enforce certain rules or validations when getting or setting the values."
   ]
  },
  {
   "cell_type": "code",
   "execution_count": 38,
   "id": "432efe27",
   "metadata": {},
   "outputs": [],
   "source": [
    "class person:\n",
    "    def __init__(self,name,age):\n",
    "        self.__name = name\n",
    "        self._age = age\n",
    "        \n",
    "    @property\n",
    "    def get_data(self):\n",
    "        return f\"Name: {self.__name} Age: {self._age}\" # here property decorator is working as getter\n",
    "    \n",
    "    @get_data.setter\n",
    "    def set_data(self,data):\n",
    "        new_name,new_age = data\n",
    "        if isinstance(new_name,str) and isinstance(new_age,int):\n",
    "            self.__name = new_name\n",
    "            self._age = new_age\n",
    "        else:\n",
    "            print(\"Name should be string and Age should be integer\")"
   ]
  },
  {
   "cell_type": "code",
   "execution_count": 39,
   "id": "d2643fed",
   "metadata": {},
   "outputs": [],
   "source": [
    "Person = person(\"sai manas\",23)"
   ]
  },
  {
   "cell_type": "code",
   "execution_count": 40,
   "id": "5fb82a0d",
   "metadata": {},
   "outputs": [
    {
     "data": {
      "text/plain": [
       "'Name: sai manas Age: 23'"
      ]
     },
     "execution_count": 40,
     "metadata": {},
     "output_type": "execute_result"
    }
   ],
   "source": [
    "Person.get_data"
   ]
  },
  {
   "cell_type": "code",
   "execution_count": 42,
   "id": "9e688a77",
   "metadata": {},
   "outputs": [
    {
     "data": {
      "text/plain": [
       "'Name: sunny Age: 2000'"
      ]
     },
     "execution_count": 42,
     "metadata": {},
     "output_type": "execute_result"
    }
   ],
   "source": [
    "Person.set_data = \"sunny\",2000\n",
    "Person.get_data"
   ]
  },
  {
   "cell_type": "markdown",
   "id": "4f4588e1",
   "metadata": {},
   "source": [
    "**Q5.What is method overriding in python? Write a python code to demonstrate method overriding.**\n",
    "- Method overriding in Python occurs when a subclass provides a specific implementation for a method that is already defined in its parent class. This allows the subclass to customize or extend the behavior of the inherited method."
   ]
  },
  {
   "cell_type": "code",
   "execution_count": 43,
   "id": "91729fd8",
   "metadata": {},
   "outputs": [],
   "source": [
    "class animal:\n",
    "    def speak(self):\n",
    "        print(\"Animal make different sounds\")\n",
    "    \n",
    "class dog(animal):\n",
    "    def speak(self):\n",
    "        print(\"Bowwwww BOw BOOWWWW bowww...\")\n",
    "\n",
    "class cat(animal):\n",
    "    def speak(self):\n",
    "        print(\"MEOWWW MmmEOOWWWww meowwwwwwwwwww....\")"
   ]
  },
  {
   "cell_type": "code",
   "execution_count": 45,
   "id": "76de70c9",
   "metadata": {},
   "outputs": [
    {
     "name": "stdout",
     "output_type": "stream",
     "text": [
      "Bowwwww BOw BOOWWWW bowww...\n",
      "MEOWWW MmmEOOWWWww meowwwwwwwwwww....\n"
     ]
    }
   ],
   "source": [
    "Dog = dog()\n",
    "Cat = cat()\n",
    "\n",
    "Dog.speak()# here speak method of child class dog override the speak method of parent class animal\n",
    "Cat.speak()# same as above but cat in place of dog"
   ]
  }
 ],
 "metadata": {
  "kernelspec": {
   "display_name": "Python 3 (ipykernel)",
   "language": "python",
   "name": "python3"
  },
  "language_info": {
   "codemirror_mode": {
    "name": "ipython",
    "version": 3
   },
   "file_extension": ".py",
   "mimetype": "text/x-python",
   "name": "python",
   "nbconvert_exporter": "python",
   "pygments_lexer": "ipython3",
   "version": "3.10.9"
  }
 },
 "nbformat": 4,
 "nbformat_minor": 5
}
