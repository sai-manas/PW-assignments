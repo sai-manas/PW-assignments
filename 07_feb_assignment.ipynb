{
 "cells": [
  {
   "cell_type": "markdown",
   "id": "5c7a0e99",
   "metadata": {},
   "source": [
    "**Q1. You are writing code for a company. The requirement of the company is that you create a python\n",
    "function that will check whether the password entered by the user is correct or not. The function should\n",
    "take the password as input and return the string “Valid Password” if the entered password follows the\n",
    "below-given password guidelines else it should return “Invalid Password”.**\n",
    "\n",
    "**Note:** \n",
    "1. The Password should contain at least two uppercase letters and at least two lowercase letters.\n",
    "2. The Password should contain at least a number and three special characters.\n",
    "3. The length of the password should be 10 characters long."
   ]
  },
  {
   "cell_type": "code",
   "execution_count": 3,
   "id": "0f779eea",
   "metadata": {},
   "outputs": [],
   "source": [
    "def password_check(password):\n",
    "    if len(password)!=10:\n",
    "        return \"Invalid Password\"\n",
    "    \n",
    "    upper_case = sum(1 for i in password if i.isupper())\n",
    "    if upper_case < 2:\n",
    "        return \"Invalid Password\"\n",
    "    \n",
    "    lower_case = sum(1 for i in password if i.islower())\n",
    "    if lower_case < 2:\n",
    "        return\"Invalid Password\"\n",
    "    \n",
    "    \n",
    "    num_count = sum(1 for i in password if i.isdigit())\n",
    "    special= sum(1 for i in password if i in \"!@#$%^&*\")\n",
    "    if not(num_count>=1 and special>=3):\n",
    "        return \"Invalid Password\"\n",
    "    \n",
    "    \n",
    "    return \"Valid Password\""
   ]
  },
  {
   "cell_type": "code",
   "execution_count": 4,
   "id": "f1762de3",
   "metadata": {},
   "outputs": [
    {
     "name": "stdout",
     "output_type": "stream",
     "text": [
      "Valid Password\n",
      "Valid Password\n",
      "Invalid Password\n",
      "Invalid Password\n",
      "Invalid Password\n"
     ]
    }
   ],
   "source": [
    "print(password_check(\"AbcdeF1*@#\"))   \n",
    "print(password_check(\"!$!beGH12@\"))  \n",
    "print(password_check(\"Abcdef1234\"))\n",
    "print(password_check(\"Abcdef!@#$$\"))  \n",
    "print(password_check(\"AbcdeF12@\"))"
   ]
  },
  {
   "cell_type": "markdown",
   "id": "75e1db11",
   "metadata": {},
   "source": [
    "Q2. Solve the below-given questions using at least one of the following:\n",
    "1. Lambda function\n",
    "2. Filter function\n",
    "3. Map function\n",
    "4. List Comprehension\n",
    "\n",
    "- Check if the string starts with a particular letter.\n",
    "- Check if the string is numeric.\n",
    "- Sort a list of tuples having fruit names and their quantity. [(\"mango\",99),(\"orange\",80), (\"grapes\", 1000)]\n",
    "- Find the squares of numbers from 1 to 10.\n",
    "- Find the cube root of numbers from 1 to 10.\n",
    "- Check if a given number is even.\n",
    "- Filter odd numbers from the given list.\n",
    "[1,2,3,4,5,6,7,8,9,10]\n",
    "- Sort a list of integers into positive and negative integers lists.\n",
    "[1,2,3,4,5,6,-1,-2,-3,-4,-5,0]"
   ]
  },
  {
   "cell_type": "code",
   "execution_count": 7,
   "id": "731c0660",
   "metadata": {},
   "outputs": [
    {
     "name": "stdout",
     "output_type": "stream",
     "text": [
      "True\n"
     ]
    }
   ],
   "source": [
    "#Check if the string starts with a particular letter.\n",
    "Input = \"Sai Manas\"\n",
    "check_string = lambda x: x[0]==\"s\"\n",
    "print(check_string(Input.lower()))"
   ]
  },
  {
   "cell_type": "code",
   "execution_count": 13,
   "id": "fb9ac47f",
   "metadata": {},
   "outputs": [
    {
     "name": "stdout",
     "output_type": "stream",
     "text": [
      "False\n",
      "True\n",
      "False\n"
     ]
    }
   ],
   "source": [
    "#Check if the string is numeric.\n",
    "numeric = lambda x : x.isnumeric()\n",
    "print(numeric(Input))\n",
    "print(numeric(\"500000000\"))\n",
    "print(numeric(\"sd5465\"))"
   ]
  },
  {
   "cell_type": "code",
   "execution_count": 17,
   "id": "c17c57c1",
   "metadata": {},
   "outputs": [
    {
     "name": "stdout",
     "output_type": "stream",
     "text": [
      "[('grapes', 1000), ('mango', 99), ('orange', 80)]\n"
     ]
    }
   ],
   "source": [
    "#Sort a list of tuples having fruit names and their quantity. [(\"mango\",99),(\"orange\",80), (\"grapes\", 1000)]\n",
    "list_input = [(\"mango\",99),(\"orange\",80), (\"grapes\", 1000)]\n",
    "list_input.sort(key = lambda x: x[0])#sorting using first element\n",
    "print(list_input)"
   ]
  },
  {
   "cell_type": "code",
   "execution_count": 19,
   "id": "8e98e07f",
   "metadata": {},
   "outputs": [
    {
     "name": "stdout",
     "output_type": "stream",
     "text": [
      "[('orange', 80), ('mango', 99), ('grapes', 1000)]\n"
     ]
    }
   ],
   "source": [
    "list_input.sort(key = lambda x: x[1])#sorting using second element\n",
    "print(list_input)"
   ]
  },
  {
   "cell_type": "code",
   "execution_count": 21,
   "id": "1467c67f",
   "metadata": {},
   "outputs": [
    {
     "name": "stdout",
     "output_type": "stream",
     "text": [
      "[1, 4, 9, 16, 25, 36, 49, 64, 81, 100]\n"
     ]
    }
   ],
   "source": [
    "#Find the squares of numbers from 1 to 10.\n",
    "list_1 = [i**2 for i in range(1,11)]\n",
    "print(list_1)"
   ]
  },
  {
   "cell_type": "code",
   "execution_count": 24,
   "id": "c7f03f84",
   "metadata": {},
   "outputs": [
    {
     "name": "stdout",
     "output_type": "stream",
     "text": [
      "[1.0, 1.2599210498948732, 1.4422495703074083, 1.5874010519681994, 1.7099759466766968, 1.8171205928321397, 1.912931182772389, 2.0, 2.080083823051904, 2.154434690031884]\n"
     ]
    }
   ],
   "source": [
    "#Find the cube root of numbers from 1 to 10.\n",
    "list_2 = [i**(1/3) for i in range(1,11)]\n",
    "print(list_2)"
   ]
  },
  {
   "cell_type": "code",
   "execution_count": 42,
   "id": "9f2b9ff2",
   "metadata": {},
   "outputs": [
    {
     "name": "stdout",
     "output_type": "stream",
     "text": [
      "2 is even\n",
      "3 is not even\n",
      "60 is even\n",
      "99 is not even\n"
     ]
    }
   ],
   "source": [
    "#Check if a given number is even.\n",
    "even = lambda x : str(x) + \" is even\" if x%2==0 else str(x) + \" is not even\"\n",
    "print(even(2))\n",
    "print(even(3))\n",
    "print(even(60))\n",
    "print(even(99))"
   ]
  },
  {
   "cell_type": "code",
   "execution_count": 52,
   "id": "f1152361",
   "metadata": {},
   "outputs": [
    {
     "name": "stdout",
     "output_type": "stream",
     "text": [
      "[1, 3, 5, 7, 9]\n"
     ]
    }
   ],
   "source": [
    "#Filter odd numbers from the given list. [1,2,3,4,5,6,7,8,9,10]\n",
    "num_list = [1,2,3,4,5,6,7,8,9,10]\n",
    "odd = lambda x:x%2!=0\n",
    "odd_numbers =list(filter(odd,num_list))\n",
    "print(odd_numbers)"
   ]
  },
  {
   "cell_type": "code",
   "execution_count": 53,
   "id": "e259835c",
   "metadata": {},
   "outputs": [
    {
     "name": "stdout",
     "output_type": "stream",
     "text": [
      "Possitive numbers list: [1, 2, 3, 4, 5, 6]\n",
      "Negative numbers list: [-1, -2, -3, -4, -5]\n"
     ]
    }
   ],
   "source": [
    "#Sort a list of integers into positive and negative integers lists. [1,2,3,4,5,6,-1,-2,-3,-4,-5,0]\n",
    "sort_input = [1,2,3,4,5,6,-1,-2,-3,-4,-5,0]\n",
    "possitive = [num for num in sort_input if num>0]\n",
    "negative = [num for num in sort_input if num<0]\n",
    "\n",
    "print(\"Possitive numbers list:\",possitive)\n",
    "print(\"Negative numbers list:\",negative)"
   ]
  }
 ],
 "metadata": {
  "kernelspec": {
   "display_name": "Python 3 (ipykernel)",
   "language": "python",
   "name": "python3"
  },
  "language_info": {
   "codemirror_mode": {
    "name": "ipython",
    "version": 3
   },
   "file_extension": ".py",
   "mimetype": "text/x-python",
   "name": "python",
   "nbconvert_exporter": "python",
   "pygments_lexer": "ipython3",
   "version": "3.10.9"
  }
 },
 "nbformat": 4,
 "nbformat_minor": 5
}
