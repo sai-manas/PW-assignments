{
 "cells": [
  {
   "cell_type": "markdown",
   "id": "83b4eafe-936a-4581-8d14-b76d8c3d4204",
   "metadata": {},
   "source": [
    "**Q1. What is multiprocessing in python? Why is it useful?**\n",
    "\n",
    "Multiprocessing in Python refers to the technique of using multiple processes to achieve parallelism, allowing a program to perform multiple tasks concurrently. In Python, the multiprocessing module provides a way to create and manage multiple processes, each with its own memory space and resources. This is particularly useful when you want to take advantage of multi-core processors to execute tasks in parallel and improve the overall performance of your program.\n",
    "\n",
    "Here are some key points about multiprocessing in Python:\n",
    "\n",
    "- Parallelism: With multiprocessing, you can divide a task into smaller subtasks and have each subtask executed in a separate process. This enables your program to take full advantage of multi-core CPUs and execute tasks simultaneously, resulting in faster execution times.\n",
    "\n",
    "- Global Interpreter Lock (GIL): Python has a GIL that prevents multiple native threads from executing Python code concurrently in the same process. This can limit the effectiveness of multi-threading for CPU-bound tasks. Multiprocessing, however, creates separate processes, each with its own interpreter and memory space, allowing for true parallel execution.\n",
    "\n",
    "- Isolation: Each process created with the multiprocessing module has its own memory space, avoiding potential data conflicts and race conditions that can occur when using threads.\n",
    "\n",
    "- Distributed Computing: Multiprocessing can be particularly useful for distributed computing tasks, where you want to offload computations to multiple processes on different machines.\n",
    "\n",
    "- Task Separation: You can divide a complex task into smaller, independent parts that can be solved concurrently. This is helpful for tasks like data processing, simulations, and more.\n",
    "\n",
    "- Fault Isolation: If one process crashes due to an error, it won't affect the other processes, ensuring the overall stability of your program."
   ]
  },
  {
   "cell_type": "markdown",
   "id": "8de7688c-05e1-4d70-8792-0b27a2612cd7",
   "metadata": {},
   "source": [
    "**Q2. What are the differences between multiprocessing and multithreading?**\n",
    "\n",
    "\n",
    "Multiprocessing and multithreading are both techniques used to achieve concurrent execution in a program, but they differ in how they manage and utilize parallelism. Here are the key differences between multiprocessing and multithreading:\n",
    "\n",
    "**Processes vs. Threads:**\n",
    "\n",
    "Multiprocessing: In multiprocessing, multiple processes are created, each with its own memory space and Python interpreter. These processes run independently and can execute tasks in parallel on separate CPU cores. Because each process has its own memory space, data isolation is naturally achieved.\n",
    "Multithreading: In multithreading, multiple threads are created within the same process and share the same memory space and Python interpreter. Threads can run concurrently, but due to the Global Interpreter Lock (GIL) in Python, only one thread can execute Python bytecode at a time, which can limit the effectiveness of multithreading for CPU-bound tasks.\n",
    "\n",
    "**Parallelism and CPU Usage:**\n",
    "\n",
    "Multiprocessing: Multiprocessing can achieve true parallelism by utilizing multiple CPU cores effectively, making it suitable for CPU-bound tasks that can be split into independent subtasks.\n",
    "Multithreading: Due to the GIL, multithreading is more suitable for I/O-bound tasks where threads spend time waiting for external resources (such as reading/writing files or making network requests). In such cases, threads can yield control to other threads while waiting.\n",
    "\n",
    "**Data Sharing and Communication:**\n",
    "\n",
    "Multiprocessing: Since processes have separate memory spaces, communication between processes can be achieved using inter-process communication (IPC) mechanisms such as pipes, queues, and shared memory.\n",
    "Multithreading: Threads share the same memory space, which can lead to data synchronization and race condition issues. Therefore, proper synchronization mechanisms like locks and semaphores are required to ensure data integrity when threads access shared resources.\n",
    "\n",
    "**Fault Isolation:**\n",
    "\n",
    "Multiprocessing: Each process runs in its own isolated memory space. If one process crashes, it generally doesn't affect other processes.\n",
    "Multithreading: A crash in one thread can potentially affect the entire process, making the program more susceptible to crashes.\n",
    "\n",
    "**Resource Usage and Overhead:**\n",
    "\n",
    "Multiprocessing: Creating and managing processes can introduce more overhead due to the need to allocate separate memory spaces and resources for each process.\n",
    "Multithreading: Threads share the same memory space, so there's less overhead in terms of memory allocation. However, contention for the GIL can reduce the effectiveness of multithreading for certain tasks.\n",
    "\n",
    "In summary, multiprocessing is better suited for CPU-bound tasks that can be divided into independent subtasks and can take advantage of multiple CPU cores, while multithreading is more appropriate for I/O-bound tasks that involve waiting for external resources. The choice between multiprocessing and multithreading depends on the nature of the task and the specific performance requirements of your application."
   ]
  },
  {
   "cell_type": "markdown",
   "id": "d28cec6c-bb11-4787-b8b9-e1ce493d29b1",
   "metadata": {},
   "source": [
    "**Q3. Write a python code to create a process using the multiprocessing module.**"
   ]
  },
  {
   "cell_type": "code",
   "execution_count": 1,
   "id": "87b8ab3c-a76c-46a1-8306-3e115f5be78c",
   "metadata": {},
   "outputs": [
    {
     "name": "stdout",
     "output_type": "stream",
     "text": [
      "[8, 27, 64, 125, 216, 343, 512, 729]\n",
      "list has been generated\n"
     ]
    }
   ],
   "source": [
    "import multiprocessing\n",
    "\n",
    "def cube(numbers,result_queue):\n",
    "    cube_list = [num**3 for num in numbers]\n",
    "    result_queue.put(cube_list)\n",
    "    \n",
    "    \n",
    "if __name__ == \"__main__\":\n",
    "    numbers = [2,3,4,5,6,7,8,9]\n",
    "    result_queue = multiprocessing.Queue()\n",
    "    m = multiprocessing.Process(target= cube , args= (numbers,result_queue))\n",
    "    m.start()\n",
    "    m.join()\n",
    "    cube_result = result_queue.get()\n",
    "    print(cube_result)\n",
    "    print(\"list has been generated\")"
   ]
  },
  {
   "cell_type": "markdown",
   "id": "4cde7dd0-e9e5-4a8f-87a7-e780c8551b6b",
   "metadata": {},
   "source": [
    "**Q4. What is a multiprocessing pool in python? Why is it used?**\n",
    "\n",
    "A multiprocessing pool in Python is a convenient way to manage a group of worker processes that can execute tasks in parallel. It's provided by the multiprocessing module and is particularly useful when you have a collection of tasks that can be processed independently and concurrently. The pool manages the creation, execution, and synchronization of multiple processes, making it easier to parallelize tasks without dealing with the low-level details of process management.\n",
    "\n",
    "Here's how a multiprocessing pool works and why it's used:\n",
    "\n",
    "- Creating the Pool: To create a multiprocessing pool, you instantiate a Pool object and specify the number of worker processes you want to use. The number of processes can be equal to the number of available CPU cores for optimal parallelism.\n",
    "\n",
    "- Distributing Tasks: Once the pool is created, you can submit tasks to it using the map() method, the apply() method, or similar methods provided by the pool. The pool will distribute the tasks among its worker processes, executing them in parallel.\n",
    "\n",
    "- Parallel Execution: Each worker process in the pool takes a task from the task queue, executes it, and then returns the result to the main process. This allows tasks to be executed concurrently, taking advantage of available CPU cores.\n",
    "\n",
    "- Synchronization: The pool takes care of synchronization and communication between the main process and the worker processes. It handles tasks distribution, result collection, and management of the worker processes.\n",
    "\n",
    "- Reusing Processes: One advantage of using a pool is that the worker processes can be reused for multiple tasks, reducing the overhead of creating and destroying processes for each task."
   ]
  },
  {
   "cell_type": "markdown",
   "id": "7ede7e6e-8bfc-482c-a21b-6f55e6e356ec",
   "metadata": {},
   "source": [
    "**Q5. How can we create a pool of worker processes in python using the multiprocessing module?**\n",
    "\n",
    "You can create a pool of worker processes in Python using the multiprocessing module's Pool class. The Pool class provides a high-level interface for managing and distributing tasks to worker processes. Here's how you can create and use a multiprocessing pool:\n",
    "\n",
    "- Import the multiprocessing Module:\n",
    "- Define a Function to Be Parallelized:\n",
    "    Define a function that you want to parallelize. This function will be applied to each task in parallel by the worker processes.\n",
    "- Create a Pool of Worker Processes:\n",
    "  Create a Pool object by specifying the desired number of worker processes. This number can be equal to the number of available CPU cores for optimal parallelism.\n",
    "- Distribute and Execute Tasks:\n",
    "    Use the methods provided by the Pool object to distribute and execute tasks in parallel. Here are two common methods:\n",
    "\n",
    "    1. map() Method: Use the map() method to apply a function to each item in an iterable (e.g., a list) and get a list of results. The order of results is guaranteed to match the order of input items.\n",
    "    2. apply_async() Method: Use the apply_async() method to submit individual tasks asynchronously. This method returns a AsyncResult object, which can be used to retrieve the result later.\n",
    "\n",
    "- Close the Pool and Clean Up:\n",
    "    After you've submitted all your tasks to the pool, make sure to close the pool using the close() method and then wait for all tasks to complete using the join() method."
   ]
  },
  {
   "cell_type": "markdown",
   "id": "e5b1df72-d537-4994-a87e-3df998838fa9",
   "metadata": {},
   "source": [
    "**Q6. Write a python program to create 4 processes, each process should print a different number using the\n",
    "multiprocessing module in python.**"
   ]
  },
  {
   "cell_type": "code",
   "execution_count": 2,
   "id": "4d108ea9-4b9a-436d-a14e-085fba47cbaf",
   "metadata": {},
   "outputs": [
    {
     "name": "stdout",
     "output_type": "stream",
     "text": [
      "Process 0: My number is 0\n",
      "Process 1: My number is 1\n",
      "Process 2: My number is 2\n",
      "Process 3: My number is 3\n",
      "All processes have finished.\n"
     ]
    }
   ],
   "source": [
    "import multiprocessing\n",
    "\n",
    "def print_number(number):\n",
    "    print(f\"Process {number}: My number is {number}\")\n",
    "\n",
    "if __name__ == \"__main__\":\n",
    "    processes = []\n",
    "    for i in range(4):\n",
    "        process = multiprocessing.Process(target=print_number, args=(i,))\n",
    "        processes.append(process)\n",
    "        process.start()\n",
    "\n",
    "    for process in processes:\n",
    "        process.join()\n",
    "\n",
    "    print(\"All processes have finished.\")"
   ]
  }
 ],
 "metadata": {
  "kernelspec": {
   "display_name": "Python 3 (ipykernel)",
   "language": "python",
   "name": "python3"
  },
  "language_info": {
   "codemirror_mode": {
    "name": "ipython",
    "version": 3
   },
   "file_extension": ".py",
   "mimetype": "text/x-python",
   "name": "python",
   "nbconvert_exporter": "python",
   "pygments_lexer": "ipython3",
   "version": "3.10.9"
  }
 },
 "nbformat": 4,
 "nbformat_minor": 5
}
