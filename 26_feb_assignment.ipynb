{
 "cells": [
  {
   "cell_type": "code",
   "execution_count": 19,
   "id": "5e68cf85",
   "metadata": {},
   "outputs": [],
   "source": [
    "import numpy as np\n",
    "list_ = [ '1','2','3','4','5' ]\n",
    "array_list = np.array(object = list_)"
   ]
  },
  {
   "cell_type": "markdown",
   "id": "4af6d365",
   "metadata": {},
   "source": [
    "**Q1. Is there any difference in the data type of variables list_ and array_list? If there is then write a code\n",
    "to print the data types of both the variables.**"
   ]
  },
  {
   "cell_type": "markdown",
   "id": "18c4c46e",
   "metadata": {},
   "source": [
    "Yes, there is a difference in the data types of the list_ and array_list variables. list_ is a regular Python list containing string elements, whereas array_list is a NumPy array, and the data type of its elements will depend on NumPy's type inference.\n",
    "\n",
    "We can print the data types of both variables using the type() function in Python. Here's the code to do that:"
   ]
  },
  {
   "cell_type": "code",
   "execution_count": 17,
   "id": "11acbacc",
   "metadata": {},
   "outputs": [
    {
     "name": "stdout",
     "output_type": "stream",
     "text": [
      "Data type of list_: <class 'list'>\n",
      "Data type of array_list: <class 'numpy.ndarray'>\n"
     ]
    }
   ],
   "source": [
    "# Print the data types of both variables\n",
    "print(\"Data type of list_:\", type(list_))\n",
    "print(\"Data type of array_list:\", type(array_list))"
   ]
  },
  {
   "cell_type": "markdown",
   "id": "33194f21",
   "metadata": {},
   "source": [
    "**Q2. Write a code to print the data type of each and every element of both the variables list_ and\n",
    "arra_list.**"
   ]
  },
  {
   "cell_type": "code",
   "execution_count": 16,
   "id": "e8b010d0",
   "metadata": {},
   "outputs": [
    {
     "name": "stdout",
     "output_type": "stream",
     "text": [
      "Data types of element in list_:\n",
      "1 = <class 'str'>\n",
      "2 = <class 'str'>\n",
      "3 = <class 'str'>\n",
      "4 = <class 'str'>\n",
      "5 = <class 'str'>\n",
      "Data types of elements in array_list:\n",
      "1 = <class 'numpy.str_'>\n",
      "2 = <class 'numpy.str_'>\n",
      "3 = <class 'numpy.str_'>\n",
      "4 = <class 'numpy.str_'>\n",
      "5 = <class 'numpy.str_'>\n"
     ]
    }
   ],
   "source": [
    "print(\"Data types of element in list_:\")\n",
    "for item in list_:\n",
    "    print(item ,\"=\" ,type(item))\n",
    "    \n",
    "print(\"Data types of elements in array_list:\")\n",
    "for item in array_list:\n",
    "    print(item ,\"=\" ,type(item))"
   ]
  },
  {
   "cell_type": "markdown",
   "id": "1c299b62",
   "metadata": {},
   "source": [
    "**Q3. Considering the following changes in the variable, array_list:**\n",
    "\n",
    "array_list = np.array(object = list_, dtype = int)\n",
    "\n",
    "**Will there be any difference in the data type of the elements present in both the variables, list_ and\n",
    "arra_list? If so then print the data types of each and every element present in both the variables, list_\n",
    "and arra_list.**\n",
    "\n"
   ]
  },
  {
   "cell_type": "code",
   "execution_count": 21,
   "id": "823a73d4",
   "metadata": {},
   "outputs": [],
   "source": [
    "array_list = np.array(object = list_, dtype = int)"
   ]
  },
  {
   "cell_type": "markdown",
   "id": "96382bee",
   "metadata": {},
   "source": [
    "Yes, there will be a difference in the data type of the elements present in list_ and array_list when you explicitly specify dtype=int during the creation of array_list. In this case, the elements in array_list will be of integer data type (int), while the elements in list_ will remain strings (str). Here's the code to print the data types of each element in both variables:"
   ]
  },
  {
   "cell_type": "code",
   "execution_count": 22,
   "id": "806d8b42",
   "metadata": {},
   "outputs": [
    {
     "name": "stdout",
     "output_type": "stream",
     "text": [
      "Data types of element in list_:\n",
      "1 = <class 'str'>\n",
      "2 = <class 'str'>\n",
      "3 = <class 'str'>\n",
      "4 = <class 'str'>\n",
      "5 = <class 'str'>\n",
      "Data types of elements in array_list:\n",
      "1 = <class 'numpy.int32'>\n",
      "2 = <class 'numpy.int32'>\n",
      "3 = <class 'numpy.int32'>\n",
      "4 = <class 'numpy.int32'>\n",
      "5 = <class 'numpy.int32'>\n"
     ]
    }
   ],
   "source": [
    "print(\"Data types of element in list_:\")\n",
    "for item in list_:\n",
    "    print(item ,\"=\" ,type(item))\n",
    "    \n",
    "print(\"Data types of elements in array_list:\")\n",
    "for item in array_list:\n",
    "    print(item ,\"=\" ,type(item))"
   ]
  },
  {
   "cell_type": "code",
   "execution_count": 23,
   "id": "47f02a67",
   "metadata": {},
   "outputs": [],
   "source": [
    "import numpy as np\n",
    "num_list = [ [ 1 , 2 , 3 ] , [ 4 , 5 , 6 ] ]\n",
    "num_array = np.array(object = num_list)"
   ]
  },
  {
   "cell_type": "markdown",
   "id": "9026aa7f",
   "metadata": {},
   "source": [
    "**Q4. Write a code to find the following characteristics of variable, num_array:\n",
    "(i) shape\n",
    "(ii) size**"
   ]
  },
  {
   "cell_type": "code",
   "execution_count": 24,
   "id": "def6703b",
   "metadata": {},
   "outputs": [
    {
     "data": {
      "text/plain": [
       "(2, 3)"
      ]
     },
     "execution_count": 24,
     "metadata": {},
     "output_type": "execute_result"
    }
   ],
   "source": [
    "num_array.shape"
   ]
  },
  {
   "cell_type": "code",
   "execution_count": 25,
   "id": "1b555c8d",
   "metadata": {},
   "outputs": [
    {
     "data": {
      "text/plain": [
       "6"
      ]
     },
     "execution_count": 25,
     "metadata": {},
     "output_type": "execute_result"
    }
   ],
   "source": [
    "num_array.size"
   ]
  },
  {
   "cell_type": "markdown",
   "id": "1a12ccb9",
   "metadata": {},
   "source": [
    "**Q5. Write a code to create numpy array of 3*3 matrix containing zeros only, using a numpy array\n",
    "creation function.**\n",
    "\n",
    "[Hint: The size of the array will be 9 and the shape will be (3,3).]"
   ]
  },
  {
   "cell_type": "code",
   "execution_count": 26,
   "id": "c7cb08f0",
   "metadata": {},
   "outputs": [
    {
     "data": {
      "text/plain": [
       "array([[0., 0., 0.],\n",
       "       [0., 0., 0.],\n",
       "       [0., 0., 0.]])"
      ]
     },
     "execution_count": 26,
     "metadata": {},
     "output_type": "execute_result"
    }
   ],
   "source": [
    "np.zeros((3,3))"
   ]
  },
  {
   "cell_type": "markdown",
   "id": "8b0915cc",
   "metadata": {},
   "source": [
    "**Q6. Create an identity matrix of shape (5,5) using numpy functions?**\n",
    "\n",
    "[Hint: An identity matrix is a matrix containing 1 diagonally and other elements will be 0.]"
   ]
  },
  {
   "cell_type": "code",
   "execution_count": 28,
   "id": "ccc6fa58",
   "metadata": {},
   "outputs": [
    {
     "data": {
      "text/plain": [
       "array([[1., 0., 0., 0., 0.],\n",
       "       [0., 1., 0., 0., 0.],\n",
       "       [0., 0., 1., 0., 0.],\n",
       "       [0., 0., 0., 1., 0.],\n",
       "       [0., 0., 0., 0., 1.]])"
      ]
     },
     "execution_count": 28,
     "metadata": {},
     "output_type": "execute_result"
    }
   ],
   "source": [
    "np.eye(5,5)"
   ]
  }
 ],
 "metadata": {
  "kernelspec": {
   "display_name": "Python 3 (ipykernel)",
   "language": "python",
   "name": "python3"
  },
  "language_info": {
   "codemirror_mode": {
    "name": "ipython",
    "version": 3
   },
   "file_extension": ".py",
   "mimetype": "text/x-python",
   "name": "python",
   "nbconvert_exporter": "python",
   "pygments_lexer": "ipython3",
   "version": "3.10.9"
  }
 },
 "nbformat": 4,
 "nbformat_minor": 5
}
