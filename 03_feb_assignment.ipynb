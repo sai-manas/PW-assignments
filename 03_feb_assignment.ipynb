{
 "cells": [
  {
   "cell_type": "markdown",
   "id": "75a5ae83",
   "metadata": {},
   "source": [
    "**Q1. Which keyword is used to create a function? Create a function to return a list of odd numbers in the  range of 1 to 25.**\n",
    "- def key word id used to create a function."
   ]
  },
  {
   "cell_type": "code",
   "execution_count": 9,
   "id": "bc7c8337",
   "metadata": {},
   "outputs": [],
   "source": [
    "def odd_numbers():\n",
    "    lst = []\n",
    "    for i in range(1,25):\n",
    "        if i%2!=0:\n",
    "            lst.append(i)\n",
    "    return lst"
   ]
  },
  {
   "cell_type": "code",
   "execution_count": 10,
   "id": "90fbb3c1",
   "metadata": {},
   "outputs": [
    {
     "data": {
      "text/plain": [
       "[1, 3, 5, 7, 9, 11, 13, 15, 17, 19, 21, 23]"
      ]
     },
     "execution_count": 10,
     "metadata": {},
     "output_type": "execute_result"
    }
   ],
   "source": [
    "odd_numbers()"
   ]
  },
  {
   "cell_type": "markdown",
   "id": "39aa6e9d",
   "metadata": {},
   "source": [
    "<b>Q2. Why *args and **kwargs is used in some functions? Create a function each for *args and **kwargs to  demonstrate their use. </b>\n",
    "- *args is used to pass a variable number of non-keyword arguments to a function. The *args parameter collects any additional positional arguments passed into the function and stores them as a tuple.\n",
    "\n",
    "- **kwargs is used to pass a variable number of keyword arguments to a function. The **kwargs parameter collects any additional keyword arguments passed into the function and stores them as a dictionary, where the keys are the argument names and the values are the corresponding argument values.\n"
   ]
  },
  {
   "cell_type": "code",
   "execution_count": 14,
   "id": "b3901160",
   "metadata": {},
   "outputs": [],
   "source": [
    "#example using *args\n",
    "def details(*args):\n",
    "    for i in args:\n",
    "        if type(i)==list:\n",
    "            print(i)"
   ]
  },
  {
   "cell_type": "code",
   "execution_count": 15,
   "id": "a955d8d2",
   "metadata": {},
   "outputs": [
    {
     "name": "stdout",
     "output_type": "stream",
     "text": [
      "[1, 2, 3, 4]\n",
      "['adf', 1, 2, 'vc']\n"
     ]
    }
   ],
   "source": [
    "details(1,4,[1,2,3,4],5,(3,34,5),[\"adf\",1,2,\"vc\"],\"sai\")"
   ]
  },
  {
   "cell_type": "code",
   "execution_count": 16,
   "id": "bda0e789",
   "metadata": {},
   "outputs": [],
   "source": [
    "#example using **kwargs\n",
    "def details_dict(**kwargs):\n",
    "    return kwargs"
   ]
  },
  {
   "cell_type": "code",
   "execution_count": 17,
   "id": "ae77b212",
   "metadata": {},
   "outputs": [
    {
     "data": {
      "text/plain": [
       "{'name': 'sai', 'age': 23, 'height': 'NA'}"
      ]
     },
     "execution_count": 17,
     "metadata": {},
     "output_type": "execute_result"
    }
   ],
   "source": [
    "details_dict(name=\"sai\",age=23,height=\"NA\")"
   ]
  },
  {
   "cell_type": "markdown",
   "id": "0404777c",
   "metadata": {},
   "source": [
    "**Q3.  What is an iterator in python? Name the method used to initialise the iterator object and the method used for iteration. Use these methods to print the first five elements of the given list [2, 4, 6, 8, 10, 12, 14, 16,  18, 20].**\n",
    "- In Python, an iterator is an object that allows you to traverse through a collection of elements one by one. It provides a way to access the elements of a container sequentially without needing to know the underlying structure of the container.\n",
    "\n",
    "- To create an iterator object in Python, you can use the iter() function, and to iterate over the elements, you can use the next() function."
   ]
  },
  {
   "cell_type": "code",
   "execution_count": 19,
   "id": "b9c96606",
   "metadata": {},
   "outputs": [
    {
     "name": "stdout",
     "output_type": "stream",
     "text": [
      "2\n",
      "4\n",
      "6\n",
      "8\n",
      "10\n"
     ]
    }
   ],
   "source": [
    "list1 = [2, 4, 6, 8, 10, 12, 14, 16, 18, 20]\n",
    "iter_object = iter(list1)\n",
    "for i in range(5):\n",
    "    print(next(iter_object))"
   ]
  },
  {
   "cell_type": "markdown",
   "id": "d3030441",
   "metadata": {},
   "source": [
    "**Q4.  What is a generator function in python? Why yield keyword is used? Give an example of a generator function.** \n",
    "- In Python, a generator function is a special type of function that returns an iterator, which can be iterated over to retrieve a sequence of values. The main difference between a regular function and a generator function is that a generator function uses the yield keyword instead of return to yield a value and suspend the function's execution state.\n",
    "\n",
    "- When a generator function is called, it doesn't execute the entire function body at once. Instead, it returns a generator object that can be iterated over. Each time the yield keyword is encountered in the generator function, the function's state is temporarily suspended, and the yielded value is returned to the caller. The function can be resumed later, from where it left off, when the next value is requested from the generator.\n",
    "\n",
    "- The yield keyword is used to produce a value from the generator function without terminating its execution. It allows the generator function to remember its state, including variable values, between subsequent calls. This feature makes generator functions efficient for working with large data sets or when you need to generate values lazily (on-demand) rather than generating them all at once."
   ]
  },
  {
   "cell_type": "code",
   "execution_count": 32,
   "id": "34fb148d",
   "metadata": {},
   "outputs": [],
   "source": [
    "def gen_function(n):\n",
    "    for i in range(n):\n",
    "        if i%2==0:\n",
    "            yield i"
   ]
  },
  {
   "cell_type": "code",
   "execution_count": 36,
   "id": "7ed6daaf",
   "metadata": {},
   "outputs": [
    {
     "name": "stdout",
     "output_type": "stream",
     "text": [
      "0\n",
      "2\n",
      "4\n",
      "6\n",
      "8\n"
     ]
    }
   ],
   "source": [
    "for num in gen_function(10):\n",
    "    print(num)"
   ]
  },
  {
   "cell_type": "markdown",
   "id": "0f702177",
   "metadata": {},
   "source": [
    "**Q5. Create a generator function for prime numbers less than 1000. Use the next() method to print the first 20 prime numbers.**"
   ]
  },
  {
   "cell_type": "code",
   "execution_count": 115,
   "id": "465b0441",
   "metadata": {},
   "outputs": [],
   "source": [
    "def prime_num():\n",
    "    prime = []\n",
    "    for n in range(2,1000):\n",
    "        for i in prime:\n",
    "            if n%i == 0:\n",
    "                break\n",
    "        else:\n",
    "            prime.append(n)          \n",
    "            yield n"
   ]
  },
  {
   "cell_type": "code",
   "execution_count": 118,
   "id": "de61c8b8",
   "metadata": {},
   "outputs": [
    {
     "name": "stdout",
     "output_type": "stream",
     "text": [
      "2\n",
      "3\n",
      "5\n",
      "7\n",
      "11\n",
      "13\n",
      "17\n",
      "19\n",
      "23\n",
      "29\n",
      "31\n",
      "37\n",
      "41\n",
      "43\n",
      "47\n",
      "53\n",
      "59\n",
      "61\n",
      "67\n",
      "71\n"
     ]
    }
   ],
   "source": [
    "prime_n = prime_num()\n",
    "for m in range(20): \n",
    "    print(next(prime_n))"
   ]
  }
 ],
 "metadata": {
  "kernelspec": {
   "display_name": "Python 3 (ipykernel)",
   "language": "python",
   "name": "python3"
  },
  "language_info": {
   "codemirror_mode": {
    "name": "ipython",
    "version": 3
   },
   "file_extension": ".py",
   "mimetype": "text/x-python",
   "name": "python",
   "nbconvert_exporter": "python",
   "pygments_lexer": "ipython3",
   "version": "3.10.9"
  }
 },
 "nbformat": 4,
 "nbformat_minor": 5
}
