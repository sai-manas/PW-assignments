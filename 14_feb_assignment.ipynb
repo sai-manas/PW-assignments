{
 "cells": [
  {
   "cell_type": "markdown",
   "id": "27f205c2",
   "metadata": {},
   "source": [
    "**Q1. What is multithreading in python? Why is it used? Name the module used to handle threads in python.**\n",
    " \n",
    "Multithreading in Python refers to the capability of a program to manage multiple threads of execution concurrently within a single process. A thread is the smallest unit of execution that can run independently, and multithreading allows you to perform multiple tasks concurrently, taking advantage of the available CPU cores. This can lead to improved performance and better utilization of system resources.\n",
    "\n",
    "Multithreading is particularly useful in scenarios where a program needs to perform multiple tasks simultaneously, such as handling user interfaces while performing background tasks, processing data in parallel, or managing I/O-bound operations.\n",
    "\n",
    "Python provides a built-in module called threading that allows you to work with threads. The threading module provides classes and functions to create and manage threads easily. With the threading module, you can create and start new threads, synchronize access to shared resources, control thread execution, and more. It abstracts many of the low-level details of working with threads and provides a higher-level API for managing them."
   ]
  },
  {
   "cell_type": "markdown",
   "id": "ebf4a09a",
   "metadata": {},
   "source": [
    "**Q2. Why threading module used? Write the use of the following functions.**\n",
    "1. activeCount()\n",
    "2. currentThread()\n",
    "3. enumerate()\n",
    "\n",
    "The threading module in Python is used for creating and managing threads in a multi-threaded application. It provides a higher-level interface to work with threads and allows developers to take advantage of concurrency by running multiple threads within the same process. The module provides various functions and classes to control the behavior of threads and manage synchronization between them.\n",
    "\n",
    "1. activeCount():\n",
    "    This function returns the number of Thread objects currently alive. It counts the total number of threads that have been started using the Thread class and have not yet finished executing or been terminated. This can be useful for monitoring the number of active threads in your program\n",
    "    \n",
    "2. currentThread():\n",
    "    This function returns the current Thread object corresponding to the caller's thread of execution. It's often used to identify the thread that's currently executing and can provide information about that thread, such as its name or other attributes.\n",
    "    \n",
    "3. enumerate():\n",
    "    The enumerate() function returns a list of all Thread objects currently alive. Each Thread object is appended to the list. This function is helpful for gathering information about all active threads, such as their names, states, or other attributes."
   ]
  },
  {
   "cell_type": "code",
   "execution_count": 5,
   "id": "c6b46935",
   "metadata": {},
   "outputs": [
    {
     "name": "stdout",
     "output_type": "stream",
     "text": [
      "Thread is working...\n",
      "Number of active threads: 6\n"
     ]
    },
    {
     "name": "stderr",
     "output_type": "stream",
     "text": [
      "C:\\Users\\k sai manas\\AppData\\Local\\Temp\\ipykernel_328\\2765778577.py:9: DeprecationWarning: activeCount() is deprecated, use active_count() instead\n",
      "  print(\"Number of active threads:\", threading.activeCount())\n"
     ]
    }
   ],
   "source": [
    "#activeCount()\n",
    "import threading\n",
    "\n",
    "def worker():\n",
    "    print(\"Thread is working...\")\n",
    "\n",
    "t1 = threading.Thread(target=worker)\n",
    "t1.start()\n",
    "\n",
    "print(\"Number of active threads:\", threading.activeCount())"
   ]
  },
  {
   "cell_type": "code",
   "execution_count": 6,
   "id": "dbb829c4",
   "metadata": {},
   "outputs": [
    {
     "name": "stdout",
     "output_type": "stream",
     "text": [
      "Thread name: Thread-10 (print_thread_info)\n"
     ]
    },
    {
     "name": "stderr",
     "output_type": "stream",
     "text": [
      "C:\\Users\\k sai manas\\AppData\\Local\\Temp\\ipykernel_328\\3532912753.py:4: DeprecationWarning: currentThread() is deprecated, use current_thread() instead\n",
      "  current_thread = threading.currentThread()\n"
     ]
    }
   ],
   "source": [
    "#currentThread()\n",
    "import threading\n",
    "\n",
    "def print_thread_info():\n",
    "    current_thread = threading.currentThread()\n",
    "    print(\"Thread name:\", current_thread.name)\n",
    "\n",
    "t1 = threading.Thread(target=print_thread_info)\n",
    "t1.start()"
   ]
  },
  {
   "cell_type": "code",
   "execution_count": 7,
   "id": "e7f5d964",
   "metadata": {},
   "outputs": [
    {
     "name": "stdout",
     "output_type": "stream",
     "text": [
      "Thread is working...\n",
      "Thread is working...\n",
      "Thread name: MainThread\n",
      "Thread name: IOPub\n",
      "Thread name: Heartbeat\n",
      "Thread name: Control\n",
      "Thread name: IPythonHistorySavingThread\n",
      "Thread name: Thread-4\n"
     ]
    }
   ],
   "source": [
    "#enumerate()\n",
    "import threading\n",
    "\n",
    "def worker():\n",
    "    print(\"Thread is working...\")\n",
    "\n",
    "t1 = threading.Thread(target=worker)\n",
    "t2 = threading.Thread(target=worker)\n",
    "\n",
    "t1.start()\n",
    "t2.start()\n",
    "\n",
    "thread_list = threading.enumerate()\n",
    "for thread in thread_list:\n",
    "    print(\"Thread name:\", thread.name)"
   ]
  },
  {
   "cell_type": "markdown",
   "id": "45fb5577",
   "metadata": {},
   "source": [
    "**Q3. Explain the following functions**\n",
    "1. run()\n",
    "2. start()\n",
    "3. join()\n",
    "4. isAlive()\n",
    "\n",
    "Here's an explanation of the functions run(), start(), join(), and isAlive() in the context of the threading module in Python:\n",
    "\n",
    "\n",
    "1. run():\n",
    "   The run() method is the entry point for the execution of a thread's target function. It's the method that you override when creating a custom thread class by subclassing threading.Thread. When you create an instance of your custom thread class and call its start() method, it internally calls the run() method to begin the execution of the thread's target function. You need to define the logic you want the thread to execute within this method.\n",
    "\n",
    "2. start():\n",
    "    The start() method is used to initiate the execution of a thread's target function. When you call start() on a Thread object, it schedules the thread to run concurrently with other threads in the program. The actual execution of the target function will occur in a separate thread of control. It's important to note that you should not call the target function directly using (); always use start() to launch the thread.\n",
    "    \n",
    "3. join():\n",
    "    The join() method is used to wait for a thread to finish its execution before proceeding with the rest of the program. When you call join() on a thread, the program waits until that thread completes its execution. This can be helpful when you want to ensure that certain threads have finished before continuing your main program logic.\n",
    "    \n",
    "4. isAlive():\n",
    "    The isAlive() method is used to check whether a thread is currently active (i.e., executing) or has completed its execution. It returns True if the thread is still running and False if the thread has finished. This can be useful for dynamically monitoring the status of threads."
   ]
  },
  {
   "cell_type": "code",
   "execution_count": 8,
   "id": "86ddae3f",
   "metadata": {},
   "outputs": [
    {
     "name": "stdout",
     "output_type": "stream",
     "text": [
      "Thread is running!\n"
     ]
    }
   ],
   "source": [
    "#run()\n",
    "import threading\n",
    "\n",
    "class MyThread(threading.Thread):\n",
    "    def run(self):\n",
    "        print(\"Thread is running!\")\n",
    "\n",
    "t1 = MyThread()\n",
    "t1.start()  # This will internally call t1.run()"
   ]
  },
  {
   "cell_type": "code",
   "execution_count": 9,
   "id": "3b700fac",
   "metadata": {},
   "outputs": [
    {
     "name": "stdout",
     "output_type": "stream",
     "text": [
      "Thread is working...\n"
     ]
    }
   ],
   "source": [
    "#start()\n",
    "import threading\n",
    "\n",
    "def worker():\n",
    "    print(\"Thread is working...\")\n",
    "\n",
    "t1 = threading.Thread(target=worker)\n",
    "t1.start()"
   ]
  },
  {
   "cell_type": "code",
   "execution_count": 10,
   "id": "11b589d6",
   "metadata": {},
   "outputs": [
    {
     "name": "stdout",
     "output_type": "stream",
     "text": [
      "Thread is working...\n"
     ]
    }
   ],
   "source": [
    "#join()\n",
    "import threading\n",
    "\n",
    "def worker():\n",
    "    print(\"Thread is working...\")\n",
    "\n",
    "t1 = threading.Thread(target=worker)\n",
    "t1.start()\n",
    "t1.join() "
   ]
  },
  {
   "cell_type": "code",
   "execution_count": 14,
   "id": "9f6a0e3b",
   "metadata": {},
   "outputs": [
    {
     "name": "stdout",
     "output_type": "stream",
     "text": [
      "Waiting for thread to finish...\n",
      "Waiting for thread to finish...\n",
      "Thread is done!\n",
      "Thread has finished.\n"
     ]
    }
   ],
   "source": [
    "#isAlive()\n",
    "import threading\n",
    "import time\n",
    "\n",
    "def worker():\n",
    "    time.sleep(2)\n",
    "    print(\"Thread is done!\")\n",
    "\n",
    "t1 = threading.Thread(target=worker)\n",
    "t1.start()\n",
    "\n",
    "while t1.is_alive():\n",
    "    print(\"Waiting for thread to finish...\")\n",
    "    time.sleep(1)\n",
    "\n",
    "print(\"Thread has finished.\")"
   ]
  },
  {
   "cell_type": "markdown",
   "id": "c146e87f",
   "metadata": {},
   "source": [
    "**Q4. Write a python program to create two threads. Thread one must print the list of squares and thread\n",
    "two must print the list of cubes.**"
   ]
  },
  {
   "cell_type": "code",
   "execution_count": 17,
   "id": "7ff0402b",
   "metadata": {},
   "outputs": [],
   "source": [
    "def square(numbers):\n",
    "    square_list = [num**2 for num in numbers]\n",
    "    print(\"list of squares:\",square_list)\n",
    "    \n",
    "def cube(numbers):\n",
    "    cube_list = [num**3 for num in numbers]\n",
    "    print(\"list of cube:\",cube_list)"
   ]
  },
  {
   "cell_type": "code",
   "execution_count": 18,
   "id": "1b7f7844",
   "metadata": {},
   "outputs": [
    {
     "name": "stdout",
     "output_type": "stream",
     "text": [
      "list of squares: [4, 9, 16, 3136, 36]\n",
      "list of cube: [8, 27, 64, 175616, 216]\n"
     ]
    }
   ],
   "source": [
    "numbers=[2,3,4,56,6]\n",
    "thread1 = threading.Thread(target = square,args=(numbers,))\n",
    "thread2 = threading.Thread(target = cube,args=(numbers,))\n",
    "\n",
    "thread1.start()\n",
    "thread2.start()"
   ]
  },
  {
   "cell_type": "markdown",
   "id": "18c51456",
   "metadata": {},
   "source": [
    "**Q5. State advantages and disadvantages of multithreading.**\n",
    "\n",
    "**Advantages of Multithreading:**\n",
    "\n",
    "- Concurrency: Multithreading enables concurrent execution of tasks. This means that multiple threads can run in parallel, allowing for better utilization of CPU cores and potentially faster execution of tasks.\n",
    "\n",
    "- Responsiveness: Multithreading can improve the responsiveness of applications, especially in user interfaces or applications that need to handle multiple concurrent tasks. Background tasks can be separated from the main thread, preventing the application from becoming unresponsive while waiting for one task to complete.\n",
    "\n",
    "- Efficient Resource Sharing: Threads within the same process can easily share data and resources without the need for complex inter-process communication mechanisms. This can lead to more efficient use of memory and reduced overhead.\n",
    "\n",
    "- Economical: Creating threads is generally less resource-intensive than creating separate processes. Threads share memory space and resources of the process, reducing the overhead associated with inter-process communication.\n",
    "\n",
    "- Task Parallelism: Multithreading allows you to perform different tasks concurrently, making it suitable for scenarios where you have tasks that can be executed independently and simultaneously.\n",
    "\n",
    "**Disadvantages of Multithreading:**\n",
    "\n",
    "- Complexity: Multithreaded programs can be more complex to design, implement, and debug compared to single-threaded programs. Dealing with issues like synchronization, race conditions, and deadlocks can be challenging.\n",
    "\n",
    "- Synchronization Issues: Threads may need to access shared resources, leading to synchronization issues. If proper synchronization mechanisms are not used, data corruption and unexpected behavior can occur.\n",
    "\n",
    "- Race Conditions: Race conditions can occur when multiple threads access and modify shared data concurrently, leading to unpredictable behavior or incorrect results.\n",
    "\n",
    "- Deadlocks: Deadlocks can occur when two or more threads are unable to proceed because each is waiting for a resource that the other holds. This can lead to a program freeze.\n",
    "\n",
    "- Performance Bottlenecks: In some cases, the overhead of managing threads and synchronization can negate the benefits of parallelism, especially if the tasks are not truly parallelizable or if the system has a limited number of CPU cores.\n",
    "\n",
    "- Global Interpreter Lock (GIL): In Python, the Global Interpreter Lock (GIL) can limit the potential performance gains from multithreading, especially for CPU-bound tasks, as it restricts true parallel execution of threads in CPython."
   ]
  },
  {
   "cell_type": "markdown",
   "id": "b3488687",
   "metadata": {},
   "source": [
    "**Q6. Explain deadlocks and race conditions.**\n",
    "\n",
    "Both deadlocks and race conditions are concurrency-related issues that can occur when multiple threads or processes are executing concurrently. They can lead to unexpected behavior and program failures. Let's delve into each of them:\n",
    "\n",
    "**Deadlocks:**\n",
    "\n",
    "A deadlock is a situation in which two or more threads or processes are unable to proceed because each is waiting for a resource held by another. In other words, it's a scenario where two or more entities are stuck in a circular waiting state, and no progress can be made. Deadlocks typically involve the following four conditions, known as the \"deadlock conditions\":\n",
    "\n",
    "- Mutual Exclusion: At least one resource must be held in a non-shareable mode. This means that once a thread/process is using a resource, others cannot access it simultaneously.\n",
    "\n",
    "- Hold and Wait: A thread/process must be holding at least one resource while waiting for another resource.\n",
    "\n",
    "- No Preemption: Resources cannot be forcibly taken away from a thread/process. The resource holder must release the resource voluntarily.\n",
    "\n",
    "- Circular Wait: A circular chain of two or more threads/processes is waiting for each other's resources.\n",
    "\n",
    "A common example of a deadlock is the \"dining philosophers\" problem, where philosophers are sitting at a table with chopsticks, and they need both chopsticks to eat. If all philosophers pick up one chopstick and wait for the other, a deadlock can occur.\n",
    "\n",
    "**Race Conditions:**\n",
    "\n",
    "A race condition occurs when two or more threads or processes access shared data concurrently, and the final outcome depends on the order of their execution. Race conditions can lead to unpredictable results, data corruption, and incorrect program behavior. Race conditions are caused by improper synchronization mechanisms or lack of proper locks.\n",
    "\n",
    "Imagine two threads trying to increment a shared counter. If both threads read the current value, increment it, and write it back, the final value might not be what you expect due to the interleaved execution of threads."
   ]
  }
 ],
 "metadata": {
  "kernelspec": {
   "display_name": "Python 3 (ipykernel)",
   "language": "python",
   "name": "python3"
  },
  "language_info": {
   "codemirror_mode": {
    "name": "ipython",
    "version": 3
   },
   "file_extension": ".py",
   "mimetype": "text/x-python",
   "name": "python",
   "nbconvert_exporter": "python",
   "pygments_lexer": "ipython3",
   "version": "3.10.9"
  }
 },
 "nbformat": 4,
 "nbformat_minor": 5
}
