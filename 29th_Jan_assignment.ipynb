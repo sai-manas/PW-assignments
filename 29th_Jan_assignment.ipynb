{
 "cells": [
  {
   "cell_type": "markdown",
   "id": "c7f6325d",
   "metadata": {},
   "source": [
    "1. Who developed Python Programming Language?\n",
    "- Guido van Rossum \n",
    "2. Which type of Programming does Python support? \n",
    "- Object oriented \n",
    "3. Is Python case sensitive when dealing with identifiers? \n",
    "- Yes\n",
    "4. What is the correct extension of the Python file? \n",
    "- .py\n",
    "5. Is Python code compiled or interpreted? \n",
    "- interpreted\n",
    "6. Name a few blocks of code used to define in Python language? \n",
    "- def function_name(n):\n",
    "        return result\n",
    "- for i in range(1,10)\n",
    "- while condition\n",
    "7. State a character used to give single-line comments in Python?\n",
    "- #\n",
    "8. Mention functions which can help us to find the version of python that we are currently working on? \n",
    "- import sys\n",
    "  sys.version\n",
    "  sys.version_info\n",
    "  \n",
    "9. Python supports the creation of anonymous functions at runtime, using a construct called \n",
    "- lambda\n",
    "10. What does pip stand for python? \n",
    "- Preferred installer program\n",
    "11. Mention a few built-in functions in python? \n",
    "- len(), type(),int(),str(),max(),min(),range(), print(),sum(),map(), del()\n",
    "12. What is the maximum possible length of an identifier in Python? \n",
    "- 79 characters\n",
    "13. What are the benefits of using Python? \n",
    "- open source\n",
    "- easy to read,write and run\n",
    "- high level language\n",
    "- many packages and modules\n",
    "14. How is memory managed in Python? \n",
    "-  private heap containing all Python objects and data structures.When a variable is created in Python, it is stored in a private heap which will then allow for allocation and deallocation.\n",
    "15. How to install Python on Windows and set path variables? \n",
    "-  Visit the official Python website at https://www.python.org/.\n",
    "    Click on the \"Downloads\" tab.\n",
    "    Choose the latest stable version of Python for Windows, which will have an executable installer (.exe) file. For example, Python 3.9.6.\n",
    "    Select the appropriate installer based on your system architecture (32-bit or 64-bit). If you're unsure, you can check your system information by right-clicking on \"This PC\" or \"My Computer\" and selecting \"Properties.\"\n",
    "- Open the Control Panel by searching for it in the Start menu.\n",
    "    Click on \"System and Security\" and then select \"System.\"\n",
    "    On the left side, click on \"Advanced system settings.\"\n",
    "    In the \"System Properties\" window, click on the \"Environment Variables\" button.\n",
    "    In the \"Environment Variables\" window, locate the \"Path\" variable under \"System variables\" and click on the \"Edit\" button.\n",
    "    Click on the \"New\" button and enter the path to your Python installation directory. The default path is usually \"C:\\Python39\" for Python 3.9.\n",
    "    Click \"OK\" to close all windows.\n",
    "    Restart the Command Prompt for the changes to take effect.\n",
    "16. Is indentation required in python? \n",
    "- Yes"
   ]
  }
 ],
 "metadata": {
  "kernelspec": {
   "display_name": "Python 3 (ipykernel)",
   "language": "python",
   "name": "python3"
  },
  "language_info": {
   "codemirror_mode": {
    "name": "ipython",
    "version": 3
   },
   "file_extension": ".py",
   "mimetype": "text/x-python",
   "name": "python",
   "nbconvert_exporter": "python",
   "pygments_lexer": "ipython3",
   "version": "3.10.9"
  }
 },
 "nbformat": 4,
 "nbformat_minor": 5
}
