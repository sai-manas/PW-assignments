{
 "cells": [
  {
   "cell_type": "markdown",
   "id": "ecc7f932",
   "metadata": {},
   "source": [
    "**Q1. Explain Class and Object with respect to Object-Oriented Programming. Give a suitable example.**\n",
    "- A class is a blueprint or template that defines the properties (attributes) and behaviors (methods) that an object of that class will have. It encapsulates the common characteristics and functionalities shared by multiple objects. Think of a class as a blueprint for creating objects.\n",
    "\n",
    "- An object, on the other hand, is an instance of a class. It is a concrete entity that can be created based on the class definition. Objects have their own unique state (attribute values) and behavior (methods) based on the class they belong to. You can think of objects as individual entities with their own specific characteristics and behaviors."
   ]
  },
  {
   "cell_type": "code",
   "execution_count": 1,
   "id": "c4c6a07e",
   "metadata": {},
   "outputs": [],
   "source": [
    "#Let's consider a class called \"Car.\" The Car class can have attributes such as \"make,\" \"model,\" \"color,\" and \"year,\" and\n",
    "#methods such as \"start,\" \"accelerate,\" \"brake,\" and \"stop.\"\n",
    "class car:\n",
    "    def __init__(self,make,model,color,year):\n",
    "        self.make = make\n",
    "        self.model = model\n",
    "        self.color = color\n",
    "        self.year = year\n",
    "    \n",
    "    def start(self):\n",
    "        print(\"The car has started\")\n",
    "        \n",
    "    def accelerate(self):\n",
    "        print(\"The car is accelerating.\")\n",
    "\n",
    "    def brake(self):\n",
    "        print(\"The car is braking.\")\n",
    "\n",
    "    def stop(self):\n",
    "        print(\"The car has stopped.\")"
   ]
  },
  {
   "cell_type": "code",
   "execution_count": 5,
   "id": "e93abcbd",
   "metadata": {},
   "outputs": [
    {
     "data": {
      "text/plain": [
       "'In this example, \"car1\" and \"car2\" are objects of the Car class. Each object has its own set of attributes \\n(make, model, color, year) and can perform the defined methods (start, accelerate, brake, stop).'"
      ]
     },
     "execution_count": 5,
     "metadata": {},
     "output_type": "execute_result"
    }
   ],
   "source": [
    "#Now, we can create objects (instances) of the Car class, each representing a specific car:\n",
    "car1 = car(\"Toyota\", \"Camry\", \"Blue\", 2023)\n",
    "car2 = car(\"Ford\", \"Mustang\", \"Red\", 2022)\n",
    "\n",
    "\"\"\"In this example, \"car1\" and \"car2\" are objects of the Car class. Each object has its own set of attributes \n",
    "(make, model, color, year) and can perform the defined methods (start, accelerate, brake, stop).\"\"\""
   ]
  },
  {
   "cell_type": "code",
   "execution_count": 9,
   "id": "7975cb8f",
   "metadata": {},
   "outputs": [
    {
     "name": "stdout",
     "output_type": "stream",
     "text": [
      "Toyota\n"
     ]
    },
    {
     "data": {
      "text/plain": [
       "'Red'"
      ]
     },
     "execution_count": 9,
     "metadata": {},
     "output_type": "execute_result"
    }
   ],
   "source": [
    "#For instance, we can access the attributes:\n",
    "print(car1.make)\n",
    "car2.color"
   ]
  },
  {
   "cell_type": "code",
   "execution_count": 10,
   "id": "8c97efe5",
   "metadata": {},
   "outputs": [
    {
     "name": "stdout",
     "output_type": "stream",
     "text": [
      "The car is braking.\n"
     ]
    }
   ],
   "source": [
    "#And we can invoke the methods:\n",
    "car2.brake()"
   ]
  },
  {
   "cell_type": "markdown",
   "id": "30e427c8",
   "metadata": {},
   "source": [
    "**Q2. Name the four pillars of OOPs.**\n",
    "- Encapsulation: Encapsulation is the process of bundling data and methods (functions) together within a class. It involves hiding the internal implementation details of an object and exposing only the necessary interfaces. Encapsulation helps in achieving data abstraction, ensuring data integrity, and providing control over access to the object's attributes and behaviors.\n",
    "\n",
    "- Inheritance: Inheritance allows a class to inherit the properties (attributes) and behaviors (methods) of another class. It enables code reuse and establishes an \"is-a\" relationship between classes. A derived class (child class) can inherit and extend the functionality of a base class (parent class). Inheritance promotes code reusability, hierarchical organization, and polymorphism.\n",
    "\n",
    "- Polymorphism: Polymorphism refers to the ability of objects of different classes to respond to the same message (method call) in different ways. It allows objects to take on different forms or behaviors based on their class or the context in which they are used. Polymorphism enables flexibility and modularity in code design, as objects can be treated interchangeably, improving code reuse and extensibility.\n",
    "\n",
    "- Abstraction: Abstraction involves simplifying complex systems by representing only essential features and hiding unnecessary details. It focuses on defining interfaces and behavior without specifying the implementation. Abstraction allows programmers to create abstract classes or interfaces that provide a common blueprint for related classes. It helps in managing complexity, promoting modularity, and enhancing code maintainability.\n",
    "\n",
    "These four pillars provide the foundation for building robust and flexible object-oriented programs in Python. They enable code reuse, promote modularity, improve code organization, and facilitate better software design and maintenance."
   ]
  },
  {
   "cell_type": "markdown",
   "id": "dc5e9cf3",
   "metadata": {},
   "source": [
    "**Q3. Explain why the '__init__()' function is used. Give a suitable example.**\n",
    "- The '__init__()' function is a special method in Python classes that is automatically called when an object of that class is created. It stands for \"initialize\" and is used to initialize the attributes (data members) of an object.\n",
    "\n",
    "- The primary purpose of the '__init__()' function is to set up the initial state of an object by assigning values to its attributes. It allows you to define the initial values of the object's attributes during object creation."
   ]
  },
  {
   "cell_type": "code",
   "execution_count": 12,
   "id": "581d76b1",
   "metadata": {},
   "outputs": [
    {
     "name": "stdout",
     "output_type": "stream",
     "text": [
      "John\n",
      "30\n",
      "Hi, my name is John and I am 25 years old.\n",
      "Hi, my name is Jane and I am 30 years old.\n"
     ]
    }
   ],
   "source": [
    "# above is __init__() not only init()\n",
    "#example for __init__ function\n",
    "class Person:\n",
    "    def __init__(self, name, age):\n",
    "        self.name = name\n",
    "        self.age = age\n",
    "\n",
    "    def introduce(self):\n",
    "        print(f\"Hi, my name is {self.name} and I am {self.age} years old.\")\n",
    "\n",
    "\n",
    "# Creating objects of the Person class\n",
    "person1 = Person(\"John\", 25)\n",
    "person2 = Person(\"Jane\", 30)\n",
    "\n",
    "# Accessing the attributes of objects\n",
    "print(person1.name)  \n",
    "print(person2.age)   \n",
    "\n",
    "# Calling the method on objects\n",
    "person1.introduce()  \n",
    "person2.introduce()  "
   ]
  },
  {
   "cell_type": "markdown",
   "id": "10f0a3ba",
   "metadata": {},
   "source": [
    "**Q4. Why self is used in OOPs?**\n",
    "- In Python, self is used as a convention to refer to the instance of a class within the class's methods. It acts as a reference to the current object or instance of the class. When defining methods within a class, including self as the first parameter allows the methods to access and manipulate the object's attributes and call other methods defined within the class."
   ]
  },
  {
   "cell_type": "markdown",
   "id": "ab54a9b1",
   "metadata": {},
   "source": [
    "**Q5. What is inheritance? Give an example for each type of inheritance.**\n",
    "- Inheritance is a fundamental concept in object-oriented programming (OOP) that allows a class to inherit properties (attributes) and behaviors (methods) from another class. It establishes a hierarchical relationship between classes, where the derived class (also known as the child or subclass) inherits the characteristics of the base class (also known as the parent or superclass).\n",
    "1. Single Inheritance:\n",
    "    Single inheritance involves a class inheriting properties and behaviors from a single base class. It forms a simple one-to-one relationship between classes. In this type of inheritance, a derived class extends the functionality of a single base class.\n",
    "Example:"
   ]
  },
  {
   "cell_type": "code",
   "execution_count": 14,
   "id": "b39d6dc1",
   "metadata": {},
   "outputs": [
    {
     "name": "stdout",
     "output_type": "stream",
     "text": [
      "I can breathe.\n",
      "I can walk.\n"
     ]
    }
   ],
   "source": [
    "class Animal:\n",
    "    def breathe(self):\n",
    "        print(\"I can breathe.\")\n",
    "\n",
    "class Mammal(Animal):\n",
    "    def walk(self):\n",
    "        print(\"I can walk.\")\n",
    "\n",
    "# Mammal class inherits from the Animal class\n",
    "# Mammal inherits the 'breathe' method from Animal\n",
    "# and adds its own 'walk' method\n",
    "lion = Mammal()\n",
    "lion.breathe()  # Output: I can breathe.\n",
    "lion.walk()     # Output: I can walk."
   ]
  },
  {
   "cell_type": "markdown",
   "id": "8d4bb812",
   "metadata": {},
   "source": [
    "2. Multiple Inheritance:\n",
    "    Multiple inheritance allows a class to inherit properties and behaviors from multiple base classes. It enables a derived class to combine features from multiple sources.\n",
    "\n",
    "Example:"
   ]
  },
  {
   "cell_type": "code",
   "execution_count": 15,
   "id": "3eb7dd12",
   "metadata": {},
   "outputs": [
    {
     "name": "stdout",
     "output_type": "stream",
     "text": [
      "I can breathe.\n",
      "I can swim.\n",
      "I can jump out of water.\n"
     ]
    }
   ],
   "source": [
    "class Animal:\n",
    "    def breathe(self):\n",
    "        print(\"I can breathe.\")\n",
    "\n",
    "class Swimmer:\n",
    "    def swim(self):\n",
    "        print(\"I can swim.\")\n",
    "\n",
    "class Dolphin(Animal, Swimmer):\n",
    "    def jump(self):\n",
    "        print(\"I can jump out of water.\")\n",
    "\n",
    "# Dolphin class inherits from both Animal and Swimmer classes\n",
    "# Dolphin inherits the 'breathe' method from Animal\n",
    "# and the 'swim' method from Swimmer\n",
    "# It also adds its own 'jump' method\n",
    "dolphin = Dolphin()\n",
    "dolphin.breathe()  # Output: I can breathe.\n",
    "dolphin.swim()    # Output: I can swim.\n",
    "dolphin.jump()    # Output: I can jump out of water."
   ]
  },
  {
   "cell_type": "markdown",
   "id": "b0ec1b93",
   "metadata": {},
   "source": [
    "3. Multilevel Inheritance:\n",
    "    Multilevel inheritance involves a derived class inheriting properties and behaviors from a base class, and then acting as the base class for another derived class. It forms a hierarchical chain of inheritance.\n",
    "\n",
    "Example:"
   ]
  },
  {
   "cell_type": "code",
   "execution_count": 16,
   "id": "17e5c622",
   "metadata": {},
   "outputs": [
    {
     "name": "stdout",
     "output_type": "stream",
     "text": [
      "I can drive.\n",
      "Beep beep!\n",
      "I can accelerate quickly.\n"
     ]
    }
   ],
   "source": [
    "class Vehicle:\n",
    "    def drive(self):\n",
    "        print(\"I can drive.\")\n",
    "\n",
    "class Car(Vehicle):\n",
    "    def honk(self):\n",
    "        print(\"Beep beep!\")\n",
    "\n",
    "class SportsCar(Car):\n",
    "    def accelerate(self):\n",
    "        print(\"I can accelerate quickly.\")\n",
    "\n",
    "# SportsCar class inherits from Car class\n",
    "# Car class inherits from Vehicle class\n",
    "# SportsCar inherits the 'drive' method from Vehicle\n",
    "# and the 'honk' method from Car\n",
    "# It also adds its own 'accelerate' method\n",
    "sports_car = SportsCar()\n",
    "sports_car.drive()      # Output: I can drive.\n",
    "sports_car.honk()       # Output: Beep beep!\n",
    "sports_car.accelerate() # Output: I can accelerate quickly."
   ]
  },
  {
   "cell_type": "markdown",
   "id": "6d7c280d",
   "metadata": {},
   "source": [
    "4. Hierarchical Inheritance:\n",
    "    Hierarchical inheritance involves multiple derived classes inheriting properties and behaviors from a single base class. It allows for specialization and branching of functionality.\n",
    "\n",
    "Example:"
   ]
  },
  {
   "cell_type": "code",
   "execution_count": 17,
   "id": "fb01eaf2",
   "metadata": {},
   "outputs": [
    {
     "name": "stdout",
     "output_type": "stream",
     "text": [
      "Drawing a circle.\n",
      "Drawing a square.\n"
     ]
    }
   ],
   "source": [
    "class Shape:\n",
    "    def draw(self):\n",
    "        print(\"Drawing a shape.\")\n",
    "\n",
    "class Circle(Shape):\n",
    "    def draw(self):\n",
    "        print(\"Drawing a circle.\")\n",
    "\n",
    "class Square(Shape):\n",
    "    def draw(self):\n",
    "        print(\"Drawing a square.\")\n",
    "\n",
    "# Circle and Square classes inherit from Shape class\n",
    "# Both derived classes override the 'draw' method\n",
    "# to provide their own specialized implementation\n",
    "circle = Circle()\n",
    "circle.draw()  # Output: Drawing a circle.\n",
    "\n",
    "square = Square()\n",
    "square.draw()  # Output: Drawing a square."
   ]
  },
  {
   "cell_type": "markdown",
   "id": "d1794a22",
   "metadata": {},
   "source": [
    "5. Hybrid inheritance: Hybrid inheritance is a combination of different types of inheritance, such as single, multiple, or multilevel inheritance. It allows for more complex class relationships and flexibility in designing class hierarchies.\n",
    "\n",
    "Example:"
   ]
  },
  {
   "cell_type": "code",
   "execution_count": 18,
   "id": "8b9e6c88",
   "metadata": {},
   "outputs": [
    {
     "name": "stdout",
     "output_type": "stream",
     "text": [
      "I can breathe.\n",
      "I can swim.\n",
      "I can jump.\n",
      "I can breathe.\n",
      "I can walk.\n",
      "I can hop.\n"
     ]
    }
   ],
   "source": [
    "class Animal:\n",
    "    def breathe(self):\n",
    "        print(\"I can breathe.\")\n",
    "\n",
    "class Swimmer:\n",
    "    def swim(self):\n",
    "        print(\"I can swim.\")\n",
    "\n",
    "class Walker:\n",
    "    def walk(self):\n",
    "        print(\"I can walk.\")\n",
    "\n",
    "class Amphibian(Animal, Swimmer):\n",
    "    def jump(self):\n",
    "        print(\"I can jump.\")\n",
    "\n",
    "class Kangaroo(Animal, Walker):\n",
    "    def hop(self):\n",
    "        print(\"I can hop.\")\n",
    "\n",
    "# Amphibian class inherits from Animal and Swimmer classes\n",
    "# Kangaroo class inherits from Animal and Walker classes\n",
    "# Each derived class combines features from multiple base classes\n",
    "# and adds their own specific methods\n",
    "\n",
    "frog = Amphibian()\n",
    "frog.breathe()  # Output: I can breathe.\n",
    "frog.swim()    # Output: I can swim.\n",
    "frog.jump()    # Output: I can jump.\n",
    "\n",
    "kangaroo = Kangaroo()\n",
    "kangaroo.breathe()  # Output: I can breathe.\n",
    "kangaroo.walk()    # Output: I can walk.\n",
    "kangaroo.hop()     # Output: I can hop."
   ]
  }
 ],
 "metadata": {
  "kernelspec": {
   "display_name": "Python 3 (ipykernel)",
   "language": "python",
   "name": "python3"
  },
  "language_info": {
   "codemirror_mode": {
    "name": "ipython",
    "version": 3
   },
   "file_extension": ".py",
   "mimetype": "text/x-python",
   "name": "python",
   "nbconvert_exporter": "python",
   "pygments_lexer": "ipython3",
   "version": "3.10.9"
  }
 },
 "nbformat": 4,
 "nbformat_minor": 5
}
