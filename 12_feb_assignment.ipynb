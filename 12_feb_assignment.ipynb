{
 "cells": [
  {
   "cell_type": "markdown",
   "id": "5d031a20",
   "metadata": {},
   "source": [
    "**Q1. What is an Exception in python? Write the difference between Exceptions and Syntax errors.**\n",
    "\n",
    "In Python, an exception is an event that occurs during the execution of a program that disrupts the normal flow of code execution. When an exceptional situation arises, such as an error or unexpected condition, an exception is raised. If this exception is not handled properly, it can lead to program termination.\n",
    "\n",
    "Exceptions provide a way to handle and recover from unexpected situations gracefully, rather than crashing the program. They allow you to separate the normal program flow from error-handling code, enhancing the maintainability and reliability of your code.\n",
    "\n",
    "There are many built-in exceptions in Python, such as TypeError, ValueError, FileNotFoundError, IndexError, and more. You can also define your own custom exceptions by creating classes that inherit from the built-in Exception class or its subclasses.\n",
    "\n",
    "Syntax errors, on the other hand, are a different kind of issue in programming. They occur when the code you've written doesn't conform to the syntax rules of the programming language. In Python, a syntax error is usually detected by the Python interpreter before the code is executed. These errors prevent the code from running at all.\n",
    "\n",
    "Here's a key difference between exceptions and syntax errors:\n",
    "\n",
    "- Occurrence:\n",
    "\n",
    "  Exceptions: These occur during the execution of a program when an unexpected situation arises, like dividing by zero, trying to access an index that doesn't exist, or attempting to convert an invalid data type.\n",
    "  \n",
    "  Syntax Errors: These occur before the program is executed and are due to incorrect language syntax or structure. For example, missing colons, incorrect indentation, or using an invalid keyword.\n",
    "  \n",
    "- Detection:\n",
    " \n",
    "  Exceptions: Detected while the program is running, and they can be caught and handled using try and except blocks.\n",
    "  \n",
    "  Syntax Errors: Detected by the Python interpreter before the code is executed, and they need to be fixed in the code before it can be run.\n",
    "  \n",
    "- Handling:\n",
    "\n",
    "  Exceptions: Can be caught and handled using try and except blocks. This allows you to gracefully handle exceptional cases without causing the entire program to crash.\n",
    "  \n",
    "  Syntax Errors: Need to be fixed in the code itself. Once a syntax error is corrected, the code can be executed without any issues.\n",
    "In summary, exceptions are runtime issues that occur during program execution, while syntax errors are detected by the interpreter before execution due to incorrect language syntax. Handling exceptions is an important part of writing robust and error-tolerant code in Python.\n",
    "\n",
    "\n",
    "\n",
    "\n"
   ]
  },
  {
   "cell_type": "markdown",
   "id": "ed5825f3",
   "metadata": {},
   "source": [
    "**Q2. What happens when an exception is not handled? Explain with an example.**\n",
    "- When an exception is not handled in a Python program, it leads to what is called an \"unhandled exception.\" Unhandled exceptions can cause the program to terminate abruptly and display an error message that includes information about the exception, its type, and where it occurred in the code. This behavior can be disruptive and undesirable, as it doesn't provide a graceful way to recover from errors and continue program execution.\n",
    "\n",
    "Here's an example to illustrate what happens when an exception is not handled:"
   ]
  },
  {
   "cell_type": "code",
   "execution_count": 1,
   "id": "22d9153f",
   "metadata": {},
   "outputs": [
    {
     "ename": "ZeroDivisionError",
     "evalue": "division by zero",
     "output_type": "error",
     "traceback": [
      "\u001b[1;31m---------------------------------------------------------------------------\u001b[0m",
      "\u001b[1;31mZeroDivisionError\u001b[0m                         Traceback (most recent call last)",
      "Cell \u001b[1;32mIn[1], line 1\u001b[0m\n\u001b[1;32m----> 1\u001b[0m \u001b[38;5;28mprint\u001b[39m(\u001b[38;5;241;43m10\u001b[39;49m\u001b[38;5;241;43m/\u001b[39;49m\u001b[38;5;241;43m0\u001b[39;49m)\n",
      "\u001b[1;31mZeroDivisionError\u001b[0m: division by zero"
     ]
    }
   ],
   "source": [
    "print(10/0)"
   ]
  },
  {
   "cell_type": "markdown",
   "id": "2599a0c8",
   "metadata": {},
   "source": [
    "- In this example, the function divide attempts to perform division between two numbers. However, the denominator is set to 0, which would result in a ZeroDivisionError exception being raised when the division operation is attempted. If this exception is not handled, the program will terminate abruptly, and an error message will be displayed"
   ]
  },
  {
   "cell_type": "markdown",
   "id": "626e16e9",
   "metadata": {},
   "source": [
    "**Q3. Which Python statements are used to catch and handle exceptions? Explain with an example.**\n",
    "- In Python, you can use try and except statements to catch and handle exceptions. The try block contains the code that might raise an exception, and the except block contains the code that handles the exception if it occurs. This allows you to gracefully handle exceptional cases and prevent the program from crashing.\n",
    "\n",
    "Let's use the division by zero example again to illustrate how try and except statements work:"
   ]
  },
  {
   "cell_type": "code",
   "execution_count": 11,
   "id": "4faa1ad6",
   "metadata": {},
   "outputs": [],
   "source": [
    "def division(a,b):\n",
    "    try:\n",
    "        result = a/b\n",
    "    except ZeroDivisionError:\n",
    "          result = \"Error: Division by zero!\"\n",
    "    return result"
   ]
  },
  {
   "cell_type": "code",
   "execution_count": 12,
   "id": "fd8add32",
   "metadata": {},
   "outputs": [
    {
     "data": {
      "text/plain": [
       "'Error: Division by zero!'"
      ]
     },
     "execution_count": 12,
     "metadata": {},
     "output_type": "execute_result"
    }
   ],
   "source": [
    "division(10,0)"
   ]
  },
  {
   "cell_type": "markdown",
   "id": "85ff08aa",
   "metadata": {},
   "source": [
    "**Q4. Explain with an example:\n",
    "a. try and else\n",
    "b. finally\n",
    "c. raise**\n",
    "\n",
    "a. try, except, and else:\n",
    "The try block is used to enclose the code that might raise an exception. If an exception occurs within the try block, it's caught by the corresponding except block. The else block, if present, is executed when no exceptions occur in the try block.\n",
    "\n",
    "b. finally:\n",
    "The finally block is used to specify a set of statements that will always be executed regardless of whether an exception occurred or not. It's commonly used for cleanup tasks, such as closing files or releasing resources.\n",
    "\n",
    "c. raise:\n",
    "The raise keyword is used to manually raise an exception in Python. It allows you to trigger exceptions when certain conditions are met, providing more control over the exception handling process."
   ]
  },
  {
   "cell_type": "code",
   "execution_count": 3,
   "id": "c3b1f14a",
   "metadata": {},
   "outputs": [
    {
     "name": "stdout",
     "output_type": "stream",
     "text": [
      "Enter a number: klm4\n",
      "Invalid input please enter a valid input\n"
     ]
    }
   ],
   "source": [
    "#try,except and else\n",
    "try: \n",
    "    x = int(input(\"Enter a number: \"))\n",
    "except ValueError as e:\n",
    "    print(\"Invalid input please enter a valid input\")\n",
    "else:\n",
    "    print(\"Entered number: \",x)"
   ]
  },
  {
   "cell_type": "code",
   "execution_count": 4,
   "id": "185a8da6",
   "metadata": {},
   "outputs": [
    {
     "name": "stdout",
     "output_type": "stream",
     "text": [
      "File not found.\n"
     ]
    },
    {
     "ename": "NameError",
     "evalue": "name 'file' is not defined",
     "output_type": "error",
     "traceback": [
      "\u001b[1;31m---------------------------------------------------------------------------\u001b[0m",
      "\u001b[1;31mNameError\u001b[0m                                 Traceback (most recent call last)",
      "Cell \u001b[1;32mIn[4], line 10\u001b[0m\n\u001b[0;32m      8\u001b[0m     \u001b[38;5;28mprint\u001b[39m(\u001b[38;5;124m\"\u001b[39m\u001b[38;5;124mFile content:\u001b[39m\u001b[38;5;124m\"\u001b[39m, content)\n\u001b[0;32m      9\u001b[0m \u001b[38;5;28;01mfinally\u001b[39;00m:\n\u001b[1;32m---> 10\u001b[0m     \u001b[43mfile\u001b[49m\u001b[38;5;241m.\u001b[39mclose()\n",
      "\u001b[1;31mNameError\u001b[0m: name 'file' is not defined"
     ]
    }
   ],
   "source": [
    "#finally\n",
    "try:\n",
    "    file = open(\"example1.txt\", \"r\")\n",
    "    content = file.read()\n",
    "except FileNotFoundError:\n",
    "    print(\"File not found.\")\n",
    "else:\n",
    "    print(\"File content:\", content)\n",
    "finally:\n",
    "    file.close()"
   ]
  },
  {
   "cell_type": "code",
   "execution_count": 7,
   "id": "f3eda73d",
   "metadata": {},
   "outputs": [
    {
     "name": "stdout",
     "output_type": "stream",
     "text": [
      "enter your age: -54\n",
      "invalid age age should not be less then zero\n"
     ]
    }
   ],
   "source": [
    "#raise\n",
    "def validating_age(age):\n",
    "    if age<0:\n",
    "        raise ValueError(\"age should not be less then zero\")\n",
    "    return \"age is valid\"\n",
    "\n",
    "try:\n",
    "    age = int(input(\"enter your age: \"))\n",
    "    print(validating_age(age))\n",
    "except ValueError as f:\n",
    "    print(\"invalid age\",f)"
   ]
  },
  {
   "cell_type": "markdown",
   "id": "44070698",
   "metadata": {},
   "source": [
    "**Q5. What are custom exceptions in python? why do we need custom expetations? Explain with example.**\n",
    "- In Python, custom exceptions are user-defined exception classes that inherit from the built-in Exception class or its subclasses. These custom exceptions allow you to create more specific and meaningful error types tailored to your application's needs. They provide a way to handle different error scenarios in a more organized and understandable manner.\n",
    "\n",
    "- You might need custom exceptions in situations where the built-in exception types don't accurately describe the nature of the error, or when you want to group related exceptions under a common hierarchy for better exception handling and debugging.\n",
    "\n",
    "- Here's an example to illustrate why custom exceptions are useful:\n",
    "\n",
    "  Suppose you're building a banking application, and you want to handle specific exceptions related to insufficient funds and invalid account numbers. Instead of using the generic Exception class or the existing built-in exceptions, you can create custom exception classes to provide clearer context about the errors."
   ]
  },
  {
   "cell_type": "markdown",
   "id": "e3746078",
   "metadata": {},
   "source": [
    "**Q6. Create a custom exception class. Use this class to handle an exception**"
   ]
  },
  {
   "cell_type": "code",
   "execution_count": 8,
   "id": "fe458d69",
   "metadata": {},
   "outputs": [
    {
     "name": "stdout",
     "output_type": "stream",
     "text": [
      "Enter your username: sai manas\n",
      "Custom Exception:  User name should be less than 8 characters\n"
     ]
    }
   ],
   "source": [
    "class InvalidUserName(Exception):\n",
    "    def __init__(self,msg):\n",
    "        self.msg = msg\n",
    "        \n",
    "def check_username(name):\n",
    "    if len(name)>8:\n",
    "        raise InvalidUserName(\"User name should be less than 8 characters\")\n",
    "    return f\"welcome {name}\"\n",
    "\n",
    "try: \n",
    "    user_name = input(\"Enter your username: \")\n",
    "    print(check_username(user_name))\n",
    "except InvalidUserName as i:\n",
    "    print(\"Custom Exception: \",i)"
   ]
  }
 ],
 "metadata": {
  "kernelspec": {
   "display_name": "Python 3 (ipykernel)",
   "language": "python",
   "name": "python3"
  },
  "language_info": {
   "codemirror_mode": {
    "name": "ipython",
    "version": 3
   },
   "file_extension": ".py",
   "mimetype": "text/x-python",
   "name": "python",
   "nbconvert_exporter": "python",
   "pygments_lexer": "ipython3",
   "version": "3.10.9"
  }
 },
 "nbformat": 4,
 "nbformat_minor": 5
}
