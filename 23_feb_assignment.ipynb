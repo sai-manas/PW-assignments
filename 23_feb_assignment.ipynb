{
 "cells": [
  {
   "cell_type": "markdown",
   "id": "5766009c",
   "metadata": {},
   "source": [
    "**Q1. Create a Pandas Series that contains the following data: 4, 8, 15, 16, 23, and 42. Then, print the series.**"
   ]
  },
  {
   "cell_type": "code",
   "execution_count": 6,
   "id": "43d457cc",
   "metadata": {},
   "outputs": [
    {
     "data": {
      "text/plain": [
       "0     4\n",
       "1     8\n",
       "2    15\n",
       "3    16\n",
       "4    23\n",
       "5    42\n",
       "dtype: int64"
      ]
     },
     "execution_count": 6,
     "metadata": {},
     "output_type": "execute_result"
    }
   ],
   "source": [
    "import pandas as pd\n",
    "series = pd.Series([4,8,15,16,23,42])\n",
    "series"
   ]
  },
  {
   "cell_type": "markdown",
   "id": "be38cc6f",
   "metadata": {},
   "source": [
    "**Q2. Create a variable of list type containing 10 elements in it, and apply pandas.Series function on the\n",
    "variable print it.**"
   ]
  },
  {
   "cell_type": "code",
   "execution_count": 7,
   "id": "edbe49fc",
   "metadata": {},
   "outputs": [
    {
     "name": "stdout",
     "output_type": "stream",
     "text": [
      "0    11\n",
      "1    12\n",
      "2    13\n",
      "3    14\n",
      "4    15\n",
      "5    16\n",
      "6    17\n",
      "7    18\n",
      "8    19\n",
      "9    20\n",
      "dtype: int64\n"
     ]
    }
   ],
   "source": [
    "my_list = [11,12,13,14,15,16,17,18,19,20]\n",
    "my_series = pd.Series(my_list)\n",
    "print(my_series)"
   ]
  },
  {
   "attachments": {
    "image.png": {
     "image/png": "[encoded data removed]"
    }
   },
   "cell_type": "markdown",
   "id": "0bd654ef",
   "metadata": {},
   "source": [
    "**Q3. Create a Pandas DataFrame that contains the following data:**\n",
    "![image.png](attachment:image.png)\n",
    "**Then, print the DataFrame.**"
   ]
  },
  {
   "cell_type": "code",
   "execution_count": 12,
   "id": "9a503fcb",
   "metadata": {},
   "outputs": [
    {
     "data": {
      "text/html": [
       "<div>\n",
       "<style scoped>\n",
       "    .dataframe tbody tr th:only-of-type {\n",
       "        vertical-align: middle;\n",
       "    }\n",
       "\n",
       "    .dataframe tbody tr th {\n",
       "        vertical-align: top;\n",
       "    }\n",
       "\n",
       "    .dataframe thead th {\n",
       "        text-align: right;\n",
       "    }\n",
       "</style>\n",
       "<table border=\"1\" class=\"dataframe\">\n",
       "  <thead>\n",
       "    <tr style=\"text-align: right;\">\n",
       "      <th></th>\n",
       "      <th>Name</th>\n",
       "      <th>Age</th>\n",
       "      <th>Gender</th>\n",
       "    </tr>\n",
       "  </thead>\n",
       "  <tbody>\n",
       "    <tr>\n",
       "      <th>0</th>\n",
       "      <td>Alice</td>\n",
       "      <td>25</td>\n",
       "      <td>Female</td>\n",
       "    </tr>\n",
       "    <tr>\n",
       "      <th>1</th>\n",
       "      <td>Bob</td>\n",
       "      <td>30</td>\n",
       "      <td>Male</td>\n",
       "    </tr>\n",
       "    <tr>\n",
       "      <th>2</th>\n",
       "      <td>Claire</td>\n",
       "      <td>27</td>\n",
       "      <td>Female</td>\n",
       "    </tr>\n",
       "  </tbody>\n",
       "</table>\n",
       "</div>"
      ],
      "text/plain": [
       "     Name  Age  Gender\n",
       "0   Alice   25  Female\n",
       "1     Bob   30    Male\n",
       "2  Claire   27  Female"
      ]
     },
     "execution_count": 12,
     "metadata": {},
     "output_type": "execute_result"
    }
   ],
   "source": [
    "my_dict = {\"Name\":[\"Alice\",\"Bob\",\"Claire\"],\"Age\":[25,30,27],\"Gender\":[\"Female\",\"Male\",\"Female\"]}\n",
    "df = pd.DataFrame(my_dict)\n",
    "df.head()"
   ]
  },
  {
   "cell_type": "markdown",
   "id": "fa366d1e",
   "metadata": {},
   "source": [
    "**Q4. What is ‘DataFrame’ in pandas and how is it different from pandas.series? Explain with an example.**\n",
    "\n",
    "\n",
    "In Pandas, a DataFrame is a two-dimensional, size-mutable, and potentially heterogeneous tabular data structure. It is similar to a spreadsheet or a SQL table, where data is organized into rows and columns. Each column in a DataFrame can be thought of as a Pandas Series, which is a one-dimensional labeled array.\n",
    "\n",
    "Here's how a DataFrame differs from a Series:\n",
    "\n",
    "**Dimensionality:**\n",
    "\n",
    "- Series: A Series is a one-dimensional data structure. It can be thought of as a single column or a single row of data with an index. Essentially, it's a labeled array.\n",
    "- DataFrame: A DataFrame is a two-dimensional data structure that consists of rows and columns. It can hold multiple columns, each of which can be a Series.\n",
    "\n",
    "**Use Cases:**\n",
    "\n",
    "- Series: Series is typically used to represent a single variable, such as a column in a dataset. It's useful for performing operations on a single set of data.\n",
    "- DataFrame: DataFrame is used to store and manipulate structured data where you have multiple variables (columns) related to each other. It's ideal for working with datasets where you need to perform operations on multiple variables together.\n",
    "\n",
    "**Indexing:**\n",
    "\n",
    "- Series: A Series has a single index that labels the elements.\n",
    "- DataFrame: A DataFrame has row and column indices. You can access data using both row and column labels.\n",
    "\n",
    "In summary, a Series is a one-dimensional labeled array, while a DataFrame is a two-dimensional tabular data structure that can hold multiple Series (columns) together. DataFrame is the more versatile and commonly used data structure in Pandas for working with structured datasets."
   ]
  },
  {
   "cell_type": "code",
   "execution_count": 14,
   "id": "838ac6d0",
   "metadata": {},
   "outputs": [
    {
     "name": "stdout",
     "output_type": "stream",
     "text": [
      "Series:\n",
      "0    10\n",
      "1    20\n",
      "2    30\n",
      "3    40\n",
      "4    50\n",
      "Name: Values, dtype: int64\n",
      "\n",
      "DataFrame:\n",
      "      Name  Age  Salary\n",
      "0    Alice   25   50000\n",
      "1      Bob   30   60000\n",
      "2  Charlie   35   70000\n",
      "3    David   40   80000\n"
     ]
    },
    {
     "data": {
      "text/plain": [
       "'In this example, series_data is a Series representing a single column of values. \\ndf is a DataFrame representing a structured dataset with multiple columns (Name, Age, Salary).'"
      ]
     },
     "execution_count": 14,
     "metadata": {},
     "output_type": "execute_result"
    }
   ],
   "source": [
    "#Example\n",
    "import pandas as pd\n",
    "\n",
    "# Creating a Series\n",
    "series_data = pd.Series([10, 20, 30, 40, 50], name='Values')\n",
    "print(\"Series:\")\n",
    "print(series_data)\n",
    "\n",
    "# Creating a DataFrame from a dictionary\n",
    "data = {'Name': ['Alice', 'Bob', 'Charlie', 'David'],\n",
    "        'Age': [25, 30, 35, 40],\n",
    "        'Salary': [50000, 60000, 70000, 80000]}\n",
    "df = pd.DataFrame(data)\n",
    "print(\"\\nDataFrame:\")\n",
    "print(df)\n",
    "\n",
    "\"\"\"In this example, series_data is a Series representing a single column of values. \n",
    "df is a DataFrame representing a structured dataset with multiple columns (Name, Age, Salary).\"\"\""
   ]
  },
  {
   "cell_type": "markdown",
   "id": "72a93c3c",
   "metadata": {},
   "source": [
    "**Q5. What are some common functions you can use to manipulate data in a Pandas DataFrame? Can\n",
    "you give an example of when you might use one of these functions?**\n",
    "\n",
    "\n",
    "Pandas provides a wide range of functions and methods to manipulate data in a DataFrame. Here are some common functions and methods you can use, along with examples of when you might use them:\n",
    "\n",
    "**Selecting Columns:**\n",
    "- df['column_name'] or df.column_name: Select a single column.\n",
    "- df[['col1', 'col2']]: Select multiple columns.\n",
    "    \n",
    "**Filtering Rows:**\n",
    "- df[df['column'] > value]: Filter rows based on a condition.\n",
    "\n",
    "**Sorting Data:**\n",
    "- df.sort_values('column_name'): Sort DataFrame by a specific column.\n",
    "- df.sort_values('column_name', ascending=False): Sort in descending order.\n",
    "\n",
    "**Grouping and Aggregating:**\n",
    "- df.groupby('column_name').mean(): Group by a column and calculate the mean of other columns within each group.\n",
    "\n",
    "**Adding and Dropping Columns:**\n",
    "- df['new_column'] = ...: Add a new column to the DataFrame.\n",
    "- df.drop('column_name', axis=1): Drop a column.\n",
    "\n",
    "**Handling Missing Data:**\n",
    "- df.dropna(): Remove rows with missing values.\n",
    "- df.fillna(value): Fill missing values with a specific value.\n"
   ]
  },
  {
   "cell_type": "code",
   "execution_count": 15,
   "id": "e9b33155",
   "metadata": {},
   "outputs": [
    {
     "data": {
      "text/html": [
       "<div>\n",
       "<style scoped>\n",
       "    .dataframe tbody tr th:only-of-type {\n",
       "        vertical-align: middle;\n",
       "    }\n",
       "\n",
       "    .dataframe tbody tr th {\n",
       "        vertical-align: top;\n",
       "    }\n",
       "\n",
       "    .dataframe thead th {\n",
       "        text-align: right;\n",
       "    }\n",
       "</style>\n",
       "<table border=\"1\" class=\"dataframe\">\n",
       "  <thead>\n",
       "    <tr style=\"text-align: right;\">\n",
       "      <th></th>\n",
       "      <th>Name</th>\n",
       "      <th>Age</th>\n",
       "      <th>Salary</th>\n",
       "    </tr>\n",
       "  </thead>\n",
       "  <tbody>\n",
       "    <tr>\n",
       "      <th>0</th>\n",
       "      <td>Alice</td>\n",
       "      <td>25</td>\n",
       "      <td>50000</td>\n",
       "    </tr>\n",
       "    <tr>\n",
       "      <th>1</th>\n",
       "      <td>Bob</td>\n",
       "      <td>30</td>\n",
       "      <td>60000</td>\n",
       "    </tr>\n",
       "    <tr>\n",
       "      <th>2</th>\n",
       "      <td>Charlie</td>\n",
       "      <td>35</td>\n",
       "      <td>70000</td>\n",
       "    </tr>\n",
       "    <tr>\n",
       "      <th>3</th>\n",
       "      <td>David</td>\n",
       "      <td>40</td>\n",
       "      <td>80000</td>\n",
       "    </tr>\n",
       "  </tbody>\n",
       "</table>\n",
       "</div>"
      ],
      "text/plain": [
       "      Name  Age  Salary\n",
       "0    Alice   25   50000\n",
       "1      Bob   30   60000\n",
       "2  Charlie   35   70000\n",
       "3    David   40   80000"
      ]
     },
     "execution_count": 15,
     "metadata": {},
     "output_type": "execute_result"
    }
   ],
   "source": [
    "#Example\n",
    "df"
   ]
  },
  {
   "cell_type": "code",
   "execution_count": 19,
   "id": "2846c623",
   "metadata": {},
   "outputs": [
    {
     "data": {
      "text/html": [
       "<div>\n",
       "<style scoped>\n",
       "    .dataframe tbody tr th:only-of-type {\n",
       "        vertical-align: middle;\n",
       "    }\n",
       "\n",
       "    .dataframe tbody tr th {\n",
       "        vertical-align: top;\n",
       "    }\n",
       "\n",
       "    .dataframe thead th {\n",
       "        text-align: right;\n",
       "    }\n",
       "</style>\n",
       "<table border=\"1\" class=\"dataframe\">\n",
       "  <thead>\n",
       "    <tr style=\"text-align: right;\">\n",
       "      <th></th>\n",
       "      <th>Age</th>\n",
       "      <th>Salary</th>\n",
       "    </tr>\n",
       "  </thead>\n",
       "  <tbody>\n",
       "    <tr>\n",
       "      <th>0</th>\n",
       "      <td>25</td>\n",
       "      <td>50000</td>\n",
       "    </tr>\n",
       "    <tr>\n",
       "      <th>1</th>\n",
       "      <td>30</td>\n",
       "      <td>60000</td>\n",
       "    </tr>\n",
       "    <tr>\n",
       "      <th>2</th>\n",
       "      <td>35</td>\n",
       "      <td>70000</td>\n",
       "    </tr>\n",
       "    <tr>\n",
       "      <th>3</th>\n",
       "      <td>40</td>\n",
       "      <td>80000</td>\n",
       "    </tr>\n",
       "  </tbody>\n",
       "</table>\n",
       "</div>"
      ],
      "text/plain": [
       "   Age  Salary\n",
       "0   25   50000\n",
       "1   30   60000\n",
       "2   35   70000\n",
       "3   40   80000"
      ]
     },
     "execution_count": 19,
     "metadata": {},
     "output_type": "execute_result"
    }
   ],
   "source": [
    "#Selecting Columns:\n",
    "df['Name']\n",
    "df[['Age','Salary']]"
   ]
  },
  {
   "cell_type": "code",
   "execution_count": 20,
   "id": "2232c6a3",
   "metadata": {},
   "outputs": [
    {
     "data": {
      "text/html": [
       "<div>\n",
       "<style scoped>\n",
       "    .dataframe tbody tr th:only-of-type {\n",
       "        vertical-align: middle;\n",
       "    }\n",
       "\n",
       "    .dataframe tbody tr th {\n",
       "        vertical-align: top;\n",
       "    }\n",
       "\n",
       "    .dataframe thead th {\n",
       "        text-align: right;\n",
       "    }\n",
       "</style>\n",
       "<table border=\"1\" class=\"dataframe\">\n",
       "  <thead>\n",
       "    <tr style=\"text-align: right;\">\n",
       "      <th></th>\n",
       "      <th>Name</th>\n",
       "      <th>Age</th>\n",
       "      <th>Salary</th>\n",
       "    </tr>\n",
       "  </thead>\n",
       "  <tbody>\n",
       "    <tr>\n",
       "      <th>2</th>\n",
       "      <td>Charlie</td>\n",
       "      <td>35</td>\n",
       "      <td>70000</td>\n",
       "    </tr>\n",
       "    <tr>\n",
       "      <th>3</th>\n",
       "      <td>David</td>\n",
       "      <td>40</td>\n",
       "      <td>80000</td>\n",
       "    </tr>\n",
       "  </tbody>\n",
       "</table>\n",
       "</div>"
      ],
      "text/plain": [
       "      Name  Age  Salary\n",
       "2  Charlie   35   70000\n",
       "3    David   40   80000"
      ]
     },
     "execution_count": 20,
     "metadata": {},
     "output_type": "execute_result"
    }
   ],
   "source": [
    "#Filtering Rows:\n",
    "df[df['Age']>30]"
   ]
  },
  {
   "cell_type": "code",
   "execution_count": 23,
   "id": "093552b6",
   "metadata": {},
   "outputs": [
    {
     "data": {
      "text/html": [
       "<div>\n",
       "<style scoped>\n",
       "    .dataframe tbody tr th:only-of-type {\n",
       "        vertical-align: middle;\n",
       "    }\n",
       "\n",
       "    .dataframe tbody tr th {\n",
       "        vertical-align: top;\n",
       "    }\n",
       "\n",
       "    .dataframe thead th {\n",
       "        text-align: right;\n",
       "    }\n",
       "</style>\n",
       "<table border=\"1\" class=\"dataframe\">\n",
       "  <thead>\n",
       "    <tr style=\"text-align: right;\">\n",
       "      <th></th>\n",
       "      <th>Name</th>\n",
       "      <th>Age</th>\n",
       "      <th>Salary</th>\n",
       "    </tr>\n",
       "  </thead>\n",
       "  <tbody>\n",
       "    <tr>\n",
       "      <th>3</th>\n",
       "      <td>David</td>\n",
       "      <td>40</td>\n",
       "      <td>80000</td>\n",
       "    </tr>\n",
       "    <tr>\n",
       "      <th>2</th>\n",
       "      <td>Charlie</td>\n",
       "      <td>35</td>\n",
       "      <td>70000</td>\n",
       "    </tr>\n",
       "    <tr>\n",
       "      <th>1</th>\n",
       "      <td>Bob</td>\n",
       "      <td>30</td>\n",
       "      <td>60000</td>\n",
       "    </tr>\n",
       "    <tr>\n",
       "      <th>0</th>\n",
       "      <td>Alice</td>\n",
       "      <td>25</td>\n",
       "      <td>50000</td>\n",
       "    </tr>\n",
       "  </tbody>\n",
       "</table>\n",
       "</div>"
      ],
      "text/plain": [
       "      Name  Age  Salary\n",
       "3    David   40   80000\n",
       "2  Charlie   35   70000\n",
       "1      Bob   30   60000\n",
       "0    Alice   25   50000"
      ]
     },
     "execution_count": 23,
     "metadata": {},
     "output_type": "execute_result"
    }
   ],
   "source": [
    "#Sorting Data:\n",
    "df.sort_values(\"Name\",ascending=False)"
   ]
  },
  {
   "cell_type": "code",
   "execution_count": 26,
   "id": "5b2efb98",
   "metadata": {},
   "outputs": [
    {
     "name": "stderr",
     "output_type": "stream",
     "text": [
      "C:\\Users\\k sai manas\\AppData\\Local\\Temp\\ipykernel_1832\\1561402436.py:2: FutureWarning: The default value of numeric_only in DataFrameGroupBy.mean is deprecated. In a future version, numeric_only will default to False. Either specify numeric_only or select only columns which should be valid for the function.\n",
      "  df.groupby('Salary').mean()\n"
     ]
    },
    {
     "data": {
      "text/html": [
       "<div>\n",
       "<style scoped>\n",
       "    .dataframe tbody tr th:only-of-type {\n",
       "        vertical-align: middle;\n",
       "    }\n",
       "\n",
       "    .dataframe tbody tr th {\n",
       "        vertical-align: top;\n",
       "    }\n",
       "\n",
       "    .dataframe thead th {\n",
       "        text-align: right;\n",
       "    }\n",
       "</style>\n",
       "<table border=\"1\" class=\"dataframe\">\n",
       "  <thead>\n",
       "    <tr style=\"text-align: right;\">\n",
       "      <th></th>\n",
       "      <th>Age</th>\n",
       "    </tr>\n",
       "    <tr>\n",
       "      <th>Salary</th>\n",
       "      <th></th>\n",
       "    </tr>\n",
       "  </thead>\n",
       "  <tbody>\n",
       "    <tr>\n",
       "      <th>50000</th>\n",
       "      <td>25.0</td>\n",
       "    </tr>\n",
       "    <tr>\n",
       "      <th>60000</th>\n",
       "      <td>30.0</td>\n",
       "    </tr>\n",
       "    <tr>\n",
       "      <th>70000</th>\n",
       "      <td>35.0</td>\n",
       "    </tr>\n",
       "    <tr>\n",
       "      <th>80000</th>\n",
       "      <td>40.0</td>\n",
       "    </tr>\n",
       "  </tbody>\n",
       "</table>\n",
       "</div>"
      ],
      "text/plain": [
       "         Age\n",
       "Salary      \n",
       "50000   25.0\n",
       "60000   30.0\n",
       "70000   35.0\n",
       "80000   40.0"
      ]
     },
     "execution_count": 26,
     "metadata": {},
     "output_type": "execute_result"
    }
   ],
   "source": [
    "#Grouping and Aggregating:\n",
    "df.groupby('Salary').mean()"
   ]
  },
  {
   "cell_type": "markdown",
   "id": "8e47d3bd",
   "metadata": {},
   "source": [
    "**Q6. Which of the following is mutable in nature Series, DataFrame, Panel?**\n",
    "\n",
    "Among the options provided (Series, DataFrame, Panel), only the DataFrame is mutable in nature.\n",
    "\n",
    "- Series: A Series is not mutable. Once created, you cannot change its elements or size. You can, however, create a new Series with modified values.\n",
    "\n",
    "- DataFrame: A DataFrame is mutable. You can add, remove, or modify columns, rows, and values within a DataFrame.\n",
    "\n",
    "- Panel: The Panel was a data structure in earlier versions of Pandas for handling three-dimensional data. However, it has been removed in recent versions (Pandas 0.25.0 and later) because it was rarely used, and similar functionality can be achieved using MultiIndex DataFrames.\n",
    "\n",
    "In summary, if you want a mutable data structure in Pandas for tabular data, you should use the DataFrame."
   ]
  },
  {
   "cell_type": "markdown",
   "id": "aa6615b1",
   "metadata": {},
   "source": [
    "**Q7. Create a DataFrame using multiple Series. Explain with an example.**"
   ]
  },
  {
   "cell_type": "code",
   "execution_count": 27,
   "id": "c3099a57",
   "metadata": {},
   "outputs": [
    {
     "name": "stdout",
     "output_type": "stream",
     "text": [
      "   Column1 Column2\n",
      "0        1       A\n",
      "1        2       B\n",
      "2        3       C\n",
      "3        4       D\n"
     ]
    }
   ],
   "source": [
    "import pandas as pd\n",
    "\n",
    "# Create multiple Series\n",
    "series1 = pd.Series([1, 2, 3, 4], name='Column1')\n",
    "series2 = pd.Series(['A', 'B', 'C', 'D'], name='Column2')\n",
    "\n",
    "# Combine the Series into a DataFrame\n",
    "df = pd.DataFrame({'Column1': series1, 'Column2': series2})\n",
    "\n",
    "# Print the DataFrame\n",
    "print(df)"
   ]
  },
  {
   "cell_type": "markdown",
   "id": "6dfe1600",
   "metadata": {},
   "source": [
    "In this example:\n",
    "\n",
    "- We create two Pandas Series, series1 and series2, with different types of data (integer and string values).\n",
    "\n",
    "- We then create a DataFrame df by passing a dictionary to the pd.DataFrame constructor. Each key-value pair in the dictionary represents a column in the DataFrame. The keys ('Column1' and 'Column2') become the column names, and the values are the Series we created earlier.\n",
    "\n",
    "- The resulting DataFrame has two columns, 'Column1' and 'Column2', with the data from the respective Series. This is a simple example, but in practice, you can create DataFrames with multiple columns and different data types to represent more complex datasets."
   ]
  }
 ],
 "metadata": {
  "kernelspec": {
   "display_name": "Python 3 (ipykernel)",
   "language": "python",
   "name": "python3"
  },
  "language_info": {
   "codemirror_mode": {
    "name": "ipython",
    "version": 3
   },
   "file_extension": ".py",
   "mimetype": "text/x-python",
   "name": "python",
   "nbconvert_exporter": "python",
   "pygments_lexer": "ipython3",
   "version": "3.10.9"
  }
 },
 "nbformat": 4,
 "nbformat_minor": 5
}
