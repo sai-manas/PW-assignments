{
 "cells": [
  {
   "cell_type": "markdown",
   "id": "cdb40d4d",
   "metadata": {},
   "source": [
    "**Q1. What are the characteristics of the tuples? Is tuple immutable?**\n",
    "- Ordered: The elements in a tuple are ordered, meaning they have a specific position or index within the tuple.\n",
    "\n",
    "- Heterogeneous: Tuples can contain elements of different data types. For example, a tuple can have a combination of integers, strings, floats, or any other valid data type.\n",
    "\n",
    "\n",
    "- Indexed: Elements within a tuple can be accessed using indexing. Each element has a specific index starting from 0 for the first element, 1 for the second element, and so on.\n",
    "\n",
    "- Arbitrary Length: Tuples can have any number of elements, including zero (an empty tuple), one (a singleton tuple), or more.\n",
    "\n",
    "Yes, tuple is immutable:\n",
    "- Immutable: Tuples are immutable, which means once a tuple is created, its elements cannot be modified. You cannot add, remove, or change elements of a tuple. However, if an element is mutable (e.g., a list), its internal state can still be modified.\n",
    "\n",
    "\n",
    "**Q2. What are the two tuple methods in python? Give an example of each method. Give a reason why  tuples have only two in-built methods as compared to Lists.** \n",
    "- In Python, tuples have two built-in methods: count() and index(). Here's an example of each method:\n",
    "1. count(): This method returns the number of occurrences of a specified element in a tuple.\n",
    "2. index(): This method returns the index of the first occurrence of a specified element in a tuple.\n",
    "\n",
    "- The limited number of methods in tuples is a deliberate design choice to maintain their immutability and simplicity, focusing on their primary purpose of storing and accessing ordered data."
   ]
  },
  {
   "cell_type": "code",
   "execution_count": 8,
   "id": "97991d45",
   "metadata": {},
   "outputs": [
    {
     "data": {
      "text/plain": [
       "3"
      ]
     },
     "execution_count": 8,
     "metadata": {},
     "output_type": "execute_result"
    }
   ],
   "source": [
    "#example for count() method in tuple\n",
    "t = (1,4,5,7,7,8,9,0,4,7,9)\n",
    "t.count(7)"
   ]
  },
  {
   "cell_type": "code",
   "execution_count": 9,
   "id": "f643b934",
   "metadata": {},
   "outputs": [
    {
     "data": {
      "text/plain": [
       "6"
      ]
     },
     "execution_count": 9,
     "metadata": {},
     "output_type": "execute_result"
    }
   ],
   "source": [
    "#example for index() method in tuple\n",
    "t.index(9)"
   ]
  },
  {
   "cell_type": "markdown",
   "id": "3f91081c",
   "metadata": {},
   "source": [
    "**Q3.  Which collection datatypes in python do not allow duplicate items? Write a code using a set to remove  duplicates from the given list.**\n",
    "\n",
    "**List = [1, 1, 1, 2, 1, 3, 1, 4, 2, 1, 2, 2, 2, 3, 2, 4, 3, 1, 3, 2, 3, 3, 3, 4, 4, 1, 4, 2, 4, 3, 4, 4]**\n"
   ]
  },
  {
   "cell_type": "code",
   "execution_count": 12,
   "id": "1f2232a5",
   "metadata": {},
   "outputs": [
    {
     "data": {
      "text/plain": [
       "{1, 2, 3, 4}"
      ]
     },
     "execution_count": 12,
     "metadata": {},
     "output_type": "execute_result"
    }
   ],
   "source": [
    "List = [1, 1, 1, 2, 1, 3, 1, 4, 2, 1, 2, 2, 2, 3, 2, 4, 3, 1, 3, 2, 3, 3, 3, 4, 4, 1, 4, 2, 4, 3, 4, 4]\n",
    "set(List)"
   ]
  },
  {
   "cell_type": "markdown",
   "id": "b568efa9",
   "metadata": {},
   "source": [
    "**Q4. Explain the difference between the union() and update() methods for a set. Give an example of  each method.**\n",
    "- union():\n",
    "    The union() method returns a new set that contains all the unique elements from the original set as well as another set or iterable. It does not modify the original set, but instead creates a new set as the result of the operation.\n",
    "- update():\n",
    "    The update() method modifies the original set by adding all the unique elements from another set or iterable. It performs an in-place operation, meaning it directly modifies the set on which it is called, without creating a new set.\n"
   ]
  },
  {
   "cell_type": "code",
   "execution_count": 2,
   "id": "d1914e57",
   "metadata": {},
   "outputs": [
    {
     "name": "stdout",
     "output_type": "stream",
     "text": [
      "{1, 2, 3, 4, 5, 6, 7}\n"
     ]
    }
   ],
   "source": [
    "#Example for union\n",
    "set1 = {1,3,4,7,6}\n",
    "set2 = {2,3,5,4}\n",
    "r = set1.union(set2)\n",
    "print(r)"
   ]
  },
  {
   "cell_type": "code",
   "execution_count": 6,
   "id": "434f54af",
   "metadata": {},
   "outputs": [
    {
     "name": "stdout",
     "output_type": "stream",
     "text": [
      "{1, 2, 3, 4, 5, 6, 7}\n"
     ]
    }
   ],
   "source": [
    "#Example for update\n",
    "set1 = {1,3,4,7,6}\n",
    "set2 = {2,3,5,4}\n",
    "set1.update(set2)\n",
    "print(set1)"
   ]
  },
  {
   "cell_type": "markdown",
   "id": "e8d66f6a",
   "metadata": {},
   "source": [
    "**Q5. What is a dictionary? Give an example. Also, state whether a dictionary is ordered or unordered.**\n",
    "- In Python, a dictionary is a built-in data structure that stores a collection of key-value pairs. It is also known as an associative array or a hash map. Dictionaries are mutable, meaning they can be modified after creation. Each key within a dictionary must be unique, and it is used to access its corresponding value.\n",
    "\n",
    "- Unlike sequences such as lists or tuples, dictionaries are not ordered. This means that the elements in a dictionary are not guaranteed to be in a specific order, and they are stored and retrieved based on their keys rather than their positions."
   ]
  },
  {
   "cell_type": "code",
   "execution_count": 16,
   "id": "36a05fbe",
   "metadata": {},
   "outputs": [
    {
     "name": "stdout",
     "output_type": "stream",
     "text": [
      "{'Name': 'K Sai Manas', 'Designation': 'Data Scientist', 'Course': 'PW SKills', 'age': 23}\n"
     ]
    },
    {
     "data": {
      "text/plain": [
       "'K Sai Manas'"
      ]
     },
     "execution_count": 16,
     "metadata": {},
     "output_type": "execute_result"
    }
   ],
   "source": [
    "#Example of dictonary\n",
    "data = {\"Name\": \"K Sai Manas\",\"Designation\": \"Data Scientist\",\"Course\":\"PW SKills\",\"age\":23}\n",
    "print(data)\n",
    "data[\"Name\"]"
   ]
  },
  {
   "cell_type": "markdown",
   "id": "daec9d64",
   "metadata": {},
   "source": [
    "**Q6. Can we create a nested dictionary? If so, please give an example by creating a simple one-level nested dictionary.**\n",
    "- Yes, we can create a nested dictionary in Python. A nested dictionary is a dictionary that contains other dictionaries as its values. "
   ]
  },
  {
   "cell_type": "code",
   "execution_count": 23,
   "id": "82ab256b",
   "metadata": {},
   "outputs": [
    {
     "name": "stdout",
     "output_type": "stream",
     "text": [
      "MCA\n"
     ]
    }
   ],
   "source": [
    "data_1 = {\"Name\": \"K Sai Manas\",\"Designation\": \"Data Scientist\",\"Qualifications\":{\"degree\":\"BSC\",\"Masters\":\"MCA\"},\"Course\":\"PW SKills\",\"age\":23}\n",
    "print(data_1[\"Qualifications\"][\"Masters\"])"
   ]
  },
  {
   "cell_type": "markdown",
   "id": "67010f64",
   "metadata": {},
   "source": [
    "**Q7. Using setdefault() method, create key named topics in the given dictionary and also add the value of  the key as this list ['Python', 'Machine Learning’, 'Deep Learning']**\n",
    "\n",
    "**dict1 = {'language' : 'Python', 'course': 'Data Science Masters'}**"
   ]
  },
  {
   "cell_type": "code",
   "execution_count": 25,
   "id": "b1f311b1",
   "metadata": {},
   "outputs": [
    {
     "name": "stdout",
     "output_type": "stream",
     "text": [
      "{'language': 'Python', 'course': 'Data Science Masters', 'topics': ['Python', 'Machine Learning', 'Deep Learning']}\n"
     ]
    }
   ],
   "source": [
    "dict1 = {'language' : 'Python', 'course': 'Data Science Masters'}\n",
    "dict1.setdefault('topics',['Python', 'Machine Learning', 'Deep Learning'])\n",
    "print(dict1)"
   ]
  },
  {
   "cell_type": "markdown",
   "id": "5ceaed7f",
   "metadata": {},
   "source": [
    "**Q8. What are the three view objects in dictionaries? Use the three in-built methods in python to display  these three view objects for the given dictionary.**\n",
    "\n",
    "**dict1 = {'Sport': 'Cricket' , 'Teams': ['India', 'Australia', 'England', 'South Africa', 'Sri Lanka', 'New Zealand']}**\n",
    "- keys()\n",
    "- values()\n",
    "- items()\n"
   ]
  },
  {
   "cell_type": "code",
   "execution_count": 27,
   "id": "bf01d8fb",
   "metadata": {},
   "outputs": [
    {
     "name": "stdout",
     "output_type": "stream",
     "text": [
      "dict_keys(['Sport', 'Teams'])\n",
      "dict_values(['Cricket', ['India', 'Australia', 'England', 'South Africa', 'Sri Lanka', 'New Zealand']])\n",
      "dict_items([('Sport', 'Cricket'), ('Teams', ['India', 'Australia', 'England', 'South Africa', 'Sri Lanka', 'New Zealand'])])\n"
     ]
    }
   ],
   "source": [
    "dict1 = {'Sport': 'Cricket' , 'Teams': ['India', 'Australia', 'England', 'South Africa', 'Sri Lanka', 'New Zealand']}\n",
    "print(dict1.keys())\n",
    "print(dict1.values())\n",
    "print(dict1.items())"
   ]
  }
 ],
 "metadata": {
  "kernelspec": {
   "display_name": "Python 3 (ipykernel)",
   "language": "python",
   "name": "python3"
  },
  "language_info": {
   "codemirror_mode": {
    "name": "ipython",
    "version": 3
   },
   "file_extension": ".py",
   "mimetype": "text/x-python",
   "name": "python",
   "nbconvert_exporter": "python",
   "pygments_lexer": "ipython3",
   "version": "3.10.9"
  }
 },
 "nbformat": 4,
 "nbformat_minor": 5
}
